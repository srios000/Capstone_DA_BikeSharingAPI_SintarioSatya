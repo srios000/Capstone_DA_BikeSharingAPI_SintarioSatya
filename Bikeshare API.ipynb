{
 "cells": [
  {
   "cell_type": "markdown",
   "id": "62480ff6-d08f-4fbf-b4b7-a4d272c75fcb",
   "metadata": {},
   "source": [
    "Import Libraries"
   ]
  },
  {
   "cell_type": "code",
   "execution_count": 1,
   "id": "ee5b7119-68ca-4c52-aef2-7e55ae1e7b0c",
   "metadata": {},
   "outputs": [],
   "source": [
    "import sqlite3\n",
    "import requests\n",
    "from tqdm import tqdm\n",
    "\n",
    "from flask import Flask, request\n",
    "import json \n",
    "import numpy as np\n",
    "import pandas as pd\n",
    "from tqdm import tqdm\n",
    "import time"
   ]
  },
  {
   "cell_type": "markdown",
   "id": "86774391-698b-41d4-a2fa-c9943a8e1ded",
   "metadata": {},
   "source": [
    "# Introduction\n",
    "In most cases when we are running a business, there are a lot of data stakeholder outside our company. The problem is that we need to provide the access in a way that they will not break our security rules or concerns. One way to solve that is by creating an API for the database. In this project, we will introduce you on how python is used for data transaction management using Flask API. \n",
    "\n",
    "**Usecase**: Bikeshare App\\\n",
    "Have you ever rent a bike for faster mobility in town? In the past few years, this business once become a phenomenom. In Indonesia, there are lots of similar services, for example, the Jakarta government's \"GOWES\" bike sharing service that launcehd in July 2020. \n",
    "\n",
    "For the user perspective, the general journey is denoted as follows:\n",
    "- User scan the bike located at some bike station, sending the data to database as the intent of \"start riding\"\n",
    "- Once user has reached its destination station, he/she put back the bike, sending the data again to the database as the intent of \"finished riding\"\n",
    "\n",
    "For each activity, there are data transactions between user and database. And how do you think each user's phone communicate with the server for storing and receiving the data? Using API ofcourse! \n",
    "\n",
    "We will later create a simplified version of the API service which handles data transactions and analysis. \n",
    "\n",
    "\n",
    "**Goals**: Make an API service to connect 3rd party user with data using HTTP request\n",
    "\n",
    "**End Product**: A Flask API which capable of doing: \n",
    "- Input new data to database\n",
    "- Read specific data from database\n",
    "- Get specific insight from data analysis process (ie: best performing stations)\n",
    "\n",
    "**Scoring Metrics**: \n",
    "\n",
    "1. 1 point - Created Flask App\n",
    "\n",
    "-  create app.py file to make flask app\n",
    "-  create Flask app to execute all of the endpoint you have made\n",
    "\n",
    "2. 2 points - Created functionality to read or get specific data from the database\n",
    "\n",
    "- create query to read data from database\n",
    "- create function to execute read specific information into table from database\n",
    "\n",
    "3. 4 points - Created functionality to input new data into each table for the databases\n",
    "\n",
    "- create query to insert new data into stations and trips table\n",
    "- create function to execute input data into stations and trips table\n",
    "\n",
    "4. 3 points - Created static endpoints which return analytical result (must be different from point 2,3)\n",
    "\n",
    "- create query to make analytical resultfrom the data\n",
    "- create static endpoint to analyze the data from database, for example average trip durations\n",
    "    \n",
    "5. 3 points - Created dynamic endpoints which return analytical result (must be different from point 2,3,4)\n",
    "\n",
    "- create query to make analytical resultfrom the data\n",
    "- create dinamic endpoint to analyze the data from database, for example average trip durations for each bike_id\n",
    "\n",
    "6. 3 points - Created POST endpoint which receive input data, then utilize it to get analytical result (must be different from point 2,3,4,5)\n",
    "\n",
    "- create input data for refering into query for post endpoint\n",
    "- make query and aggregation function to implement the input\n",
    "\n",
    "**Tools**: \n",
    "- **Python** with **Jupyter Notebook**, installed with **required libraries**\n",
    "- **Visual Studio Code (VSCode)**: Recommended for writing application scripts\n",
    "- **TablePlus**: Recommended for easy database access and exploration\n",
    "- Postman: Optional for easy API testing\n"
   ]
  },
  {
   "cell_type": "markdown",
   "id": "7f0d31b3-764f-4d0a-941d-443c5a502e1f",
   "metadata": {},
   "source": [
    "# About the Data"
   ]
  },
  {
   "cell_type": "markdown",
   "id": "89ec6608-cf50-4f15-993c-99f186ece82c",
   "metadata": {},
   "source": [
    "The data that we will be using in this project is **[Austin Bike Share]()** dataset which contains information on bike trip start location, stop location, duration, type of bike share user in the city of Austin, Texas. Bike station location data is also provided. \n",
    "\n",
    "All the information is stored in a database called **austin_bikeshare.db**. However, we also provides the non existing data in csv files. These data then will be imported into the database using the API"
   ]
  },
  {
   "cell_type": "markdown",
   "id": "3c4833d3-015d-4f4a-b00d-21e00af777fc",
   "metadata": {},
   "source": [
    "Lists of files:\n",
    "- **austin_bikeshare.db**: The database, contains `trips` and `stations` table\n",
    "- **data/austin_bikeshare_stations.csv**: contains all the stations information which is not yet available in the database table\n",
    "- **data/austin_bikeshare_trips_2021.csv**: contains all 2021 data which is not yet available in the database table"
   ]
  },
  {
   "cell_type": "code",
   "execution_count": 2,
   "id": "52e3d146-1a21-4b1a-9ffc-817f4f084375",
   "metadata": {},
   "outputs": [],
   "source": [
    "# Reading the csv data\n",
    "trips = pd.read_csv('data/austin_bikeshare_trips_2021.csv')\n",
    "stations = pd.read_csv('data/austin_bikeshare_stations.csv')"
   ]
  },
  {
   "cell_type": "markdown",
   "id": "60bb1c45-5b3d-4987-beb7-7aafaa6b4609",
   "metadata": {},
   "source": [
    "## Taking a look for trips data\n",
    "`trips` table in database, or `austin_bikeshare_trips.csv` in original files. It roughly consisted of 1.3 million rows"
   ]
  },
  {
   "cell_type": "code",
   "execution_count": 3,
   "id": "69039e08-e759-4950-9253-3ad44c59cddf",
   "metadata": {},
   "outputs": [
    {
     "data": {
      "text/html": [
       "<div>\n",
       "<style scoped>\n",
       "    .dataframe tbody tr th:only-of-type {\n",
       "        vertical-align: middle;\n",
       "    }\n",
       "\n",
       "    .dataframe tbody tr th {\n",
       "        vertical-align: top;\n",
       "    }\n",
       "\n",
       "    .dataframe thead th {\n",
       "        text-align: right;\n",
       "    }\n",
       "</style>\n",
       "<table border=\"1\" class=\"dataframe\">\n",
       "  <thead>\n",
       "    <tr style=\"text-align: right;\">\n",
       "      <th></th>\n",
       "      <th>trip_id</th>\n",
       "      <th>subscriber_type</th>\n",
       "      <th>bikeid</th>\n",
       "      <th>start_time</th>\n",
       "      <th>start_station_id</th>\n",
       "      <th>start_station_name</th>\n",
       "      <th>end_station_id</th>\n",
       "      <th>end_station_name</th>\n",
       "      <th>duration_minutes</th>\n",
       "    </tr>\n",
       "  </thead>\n",
       "  <tbody>\n",
       "    <tr>\n",
       "      <th>0</th>\n",
       "      <td>23455589</td>\n",
       "      <td>Local365</td>\n",
       "      <td>174</td>\n",
       "      <td>2021-01-26 17:47:42 UTC</td>\n",
       "      <td>4059</td>\n",
       "      <td>Nash Hernandez/East @ RBJ South</td>\n",
       "      <td>3660</td>\n",
       "      <td>East 6th/Medina</td>\n",
       "      <td>7</td>\n",
       "    </tr>\n",
       "    <tr>\n",
       "      <th>1</th>\n",
       "      <td>23459960</td>\n",
       "      <td>Local365</td>\n",
       "      <td>19265</td>\n",
       "      <td>2021-01-28 08:03:52 UTC</td>\n",
       "      <td>4054</td>\n",
       "      <td>Rosewood/Chicon</td>\n",
       "      <td>4055</td>\n",
       "      <td>11th/Salina</td>\n",
       "      <td>16</td>\n",
       "    </tr>\n",
       "  </tbody>\n",
       "</table>\n",
       "</div>"
      ],
      "text/plain": [
       "    trip_id subscriber_type bikeid               start_time  start_station_id  \\\n",
       "0  23455589        Local365    174  2021-01-26 17:47:42 UTC              4059   \n",
       "1  23459960        Local365  19265  2021-01-28 08:03:52 UTC              4054   \n",
       "\n",
       "                start_station_name  end_station_id end_station_name  \\\n",
       "0  Nash Hernandez/East @ RBJ South            3660  East 6th/Medina   \n",
       "1                  Rosewood/Chicon            4055     11th/Salina    \n",
       "\n",
       "   duration_minutes  \n",
       "0                 7  \n",
       "1                16  "
      ]
     },
     "execution_count": 3,
     "metadata": {},
     "output_type": "execute_result"
    }
   ],
   "source": [
    "trips.head(2)"
   ]
  },
  {
   "cell_type": "markdown",
   "id": "01ee13e1-1110-45fe-8831-1bf7604d6f87",
   "metadata": {},
   "source": [
    "**Data Descriptions**:\n",
    "- `bikeid`: integer id of bike\n",
    "- `checkout_time`: HH:MM:SS, see start time for date stamp\n",
    "- `duration_minutes`: int minutes of trip duration\n",
    "- `endstationid`: integer id of end station\n",
    "- `endstationname`: string of end station name\n",
    "- `month`: month, integer\n",
    "- `startstationid`: integer id of start station\n",
    "- `startstationname`: string of start station name\n",
    "- `start_time`: YYYY-MM-DD HH:MM:SS\n",
    "- `subscriber_type`: membership typ e.g. walk up, annual, other bike share, etc\n",
    "- `trip_id`: unique trip id int\n",
    "- `year`: year of trip, int"
   ]
  },
  {
   "cell_type": "markdown",
   "id": "44fd2bdd-a1e9-4734-b7a7-8ddc8f3ee0e2",
   "metadata": {},
   "source": [
    "## Taking a look for stations data\n",
    "`stations` table in database, or `austin_bikeshare_stations.csv` in original files "
   ]
  },
  {
   "cell_type": "code",
   "execution_count": 4,
   "id": "de5298bf-64a9-4565-a83d-ce1f4d1f4403",
   "metadata": {},
   "outputs": [
    {
     "data": {
      "text/html": [
       "<div>\n",
       "<style scoped>\n",
       "    .dataframe tbody tr th:only-of-type {\n",
       "        vertical-align: middle;\n",
       "    }\n",
       "\n",
       "    .dataframe tbody tr th {\n",
       "        vertical-align: top;\n",
       "    }\n",
       "\n",
       "    .dataframe thead th {\n",
       "        text-align: right;\n",
       "    }\n",
       "</style>\n",
       "<table border=\"1\" class=\"dataframe\">\n",
       "  <thead>\n",
       "    <tr style=\"text-align: right;\">\n",
       "      <th></th>\n",
       "      <th>station_id</th>\n",
       "      <th>name</th>\n",
       "      <th>status</th>\n",
       "      <th>address</th>\n",
       "      <th>alternate_name</th>\n",
       "      <th>city_asset_number</th>\n",
       "      <th>property_type</th>\n",
       "      <th>number_of_docks</th>\n",
       "      <th>power_type</th>\n",
       "      <th>footprint_length</th>\n",
       "      <th>footprint_width</th>\n",
       "      <th>notes</th>\n",
       "      <th>council_district</th>\n",
       "      <th>modified_date</th>\n",
       "    </tr>\n",
       "  </thead>\n",
       "  <tbody>\n",
       "    <tr>\n",
       "      <th>96</th>\n",
       "      <td>3795</td>\n",
       "      <td>Dean Keeton &amp; Whitis</td>\n",
       "      <td>active</td>\n",
       "      <td>300 W. Dean Keeton St.</td>\n",
       "      <td>NaN</td>\n",
       "      <td>32671.0</td>\n",
       "      <td>undetermined_parking</td>\n",
       "      <td>19.0</td>\n",
       "      <td>solar</td>\n",
       "      <td>55.0</td>\n",
       "      <td>5.0</td>\n",
       "      <td>NaN</td>\n",
       "      <td>9</td>\n",
       "      <td>2021-01-04T12:00:00Z</td>\n",
       "    </tr>\n",
       "    <tr>\n",
       "      <th>97</th>\n",
       "      <td>3797</td>\n",
       "      <td>21st &amp; University</td>\n",
       "      <td>active</td>\n",
       "      <td>2007 University Ave.</td>\n",
       "      <td>NaN</td>\n",
       "      <td>32674.0</td>\n",
       "      <td>undetermined_parking</td>\n",
       "      <td>19.0</td>\n",
       "      <td>solar</td>\n",
       "      <td>55.0</td>\n",
       "      <td>5.0</td>\n",
       "      <td>ROW might belong to UT</td>\n",
       "      <td>9</td>\n",
       "      <td>2021-01-04T12:00:00Z</td>\n",
       "    </tr>\n",
       "  </tbody>\n",
       "</table>\n",
       "</div>"
      ],
      "text/plain": [
       "    station_id                  name  status                 address  \\\n",
       "96        3795  Dean Keeton & Whitis  active  300 W. Dean Keeton St.   \n",
       "97        3797     21st & University  active    2007 University Ave.   \n",
       "\n",
       "   alternate_name  city_asset_number         property_type  number_of_docks  \\\n",
       "96            NaN            32671.0  undetermined_parking             19.0   \n",
       "97            NaN            32674.0  undetermined_parking             19.0   \n",
       "\n",
       "   power_type  footprint_length  footprint_width                   notes  \\\n",
       "96      solar              55.0              5.0                     NaN   \n",
       "97      solar              55.0              5.0  ROW might belong to UT   \n",
       "\n",
       "    council_district         modified_date  \n",
       "96                 9  2021-01-04T12:00:00Z  \n",
       "97                 9  2021-01-04T12:00:00Z  "
      ]
     },
     "execution_count": 4,
     "metadata": {},
     "output_type": "execute_result"
    }
   ],
   "source": [
    "stations.tail(2)"
   ]
  },
  {
   "cell_type": "markdown",
   "id": "fb167853-53c1-4bd5-aea4-3bcf0d0cba5e",
   "metadata": {},
   "source": [
    "**stations table (or austin_bikeshare_trips.csv)**:\n",
    "- `station_id`: integer id of station\n",
    "- `name`: string of station name\n",
    "- `status`: string of station status (active, closed, moved, ACL-only)\n",
    "- `address`: string of station address\n",
    "- `alternate_name`: string of station alternative name\n",
    "- `city_asset_number`: integer of station's asset number\n",
    "- `property_type`: string of station's property type\n",
    "- `number_of_docks`: integer of number of available bike docks\n",
    "- `power_type`: string of station's power source type\n",
    "- `footprint_length`: float of station' blueprint length (size of the station). Probably in meters\n",
    "- `footprint_width`: float of station' blueprint width (size of the station). Probably in meters\n",
    "- `notes`: string of additional notes\n",
    "- `council_district`: integer of stations's council district\n",
    "- `modified_date`: date of last modified information regarding the station"
   ]
  },
  {
   "cell_type": "markdown",
   "id": "c424d7fc-0fe4-4010-959f-d030c825abc5",
   "metadata": {},
   "source": [
    "# Database"
   ]
  },
  {
   "cell_type": "markdown",
   "id": "c8ab9b50-dc5c-431a-a01e-b32bf0a10709",
   "metadata": {},
   "source": [
    "The first important task is to make sure we can securely make connections to the database. In this scenario, we will connect to sqlite database, `austin_bikeshare.db` via python. In this part, we will re-visit on how to work with databases, started with making a connection, get some data, and insert data into it. \n",
    "\n",
    "You can directly connect and view the database using TablePlus, or run the following code to create the connection"
   ]
  },
  {
   "cell_type": "code",
   "execution_count": 5,
   "id": "bbaec86f-2ce8-48d2-b37c-d949e53d18ce",
   "metadata": {},
   "outputs": [],
   "source": [
    "# Define a function to create connection for reusability purpose\n",
    "def make_connection():\n",
    "    connection = sqlite3.connect('austin_bikeshare.db')\n",
    "    return connection\n",
    "\n",
    "# Make a connection\n",
    "conn = make_connection()"
   ]
  },
  {
   "cell_type": "markdown",
   "id": "63da1e43-7bea-473c-9b7e-f9b86e13a8ec",
   "metadata": {},
   "source": [
    "## POST: Insert data into database\n",
    "\n",
    "Generally, POST method will utilize the data sent by user for specific purporse, for example: \n",
    "\n",
    "- Insert new data into the database. \n",
    "- Operate the data into some function"
   ]
  },
  {
   "cell_type": "markdown",
   "id": "27d0a87a-a3cf-4a38-85bb-3036718f2e62",
   "metadata": {},
   "source": [
    "We will learn how to insert data into a specific table in our database. Please refer to the following code to create and run the query for the given task"
   ]
  },
  {
   "cell_type": "code",
   "execution_count": 6,
   "id": "1d200cd0-8a48-4b45-800c-c39c25bafcb4",
   "metadata": {},
   "outputs": [],
   "source": [
    "# Get the data values\n",
    "data = tuple(stations.iloc[1].fillna('').values)\n",
    "\n",
    "# Make the query\n",
    "query = f\"\"\"\n",
    "INSERT INTO stations\n",
    "VALUES {data}\n",
    "\"\"\""
   ]
  },
  {
   "cell_type": "code",
   "execution_count": 7,
   "id": "1bf0754c-9cea-4d62-b870-1323bb2f7c1b",
   "metadata": {},
   "outputs": [
    {
     "name": "stdout",
     "output_type": "stream",
     "text": [
      "\n",
      "INSERT INTO stations\n",
      "VALUES (2500, 'Republic Square', 'closed', '425 W 4th Street', '', '', '', '', '', '', '', '', 9, '2021-01-04T12:00:00Z')\n",
      "\n"
     ]
    }
   ],
   "source": [
    "# See the actual query looks like\n",
    "print(query)"
   ]
  },
  {
   "cell_type": "code",
   "execution_count": 8,
   "id": "7c5c2d27-93ee-48a2-8228-d54c26b6f3da",
   "metadata": {},
   "outputs": [
    {
     "data": {
      "text/plain": [
       "<sqlite3.Cursor at 0x2784f3720c0>"
      ]
     },
     "execution_count": 8,
     "metadata": {},
     "output_type": "execute_result"
    }
   ],
   "source": [
    "# Execute the query \n",
    "conn.execute(query)"
   ]
  },
  {
   "cell_type": "code",
   "execution_count": 9,
   "id": "3b35411a-c2bd-4a20-9663-50356ce74f7c",
   "metadata": {},
   "outputs": [],
   "source": [
    "# Commit changes to database\n",
    "conn.commit()"
   ]
  },
  {
   "cell_type": "markdown",
   "id": "433e02eb-4244-4bf9-8cd6-2f65da183431",
   "metadata": {},
   "source": [
    "Once the code above succesful, it's recomended to wrap it into a function so that we can reuse it in the future. Complete the following codes to make the function:"
   ]
  },
  {
   "cell_type": "code",
   "execution_count": 10,
   "id": "604b25b8-66f9-4707-a092-a945023133cc",
   "metadata": {},
   "outputs": [],
   "source": [
    "def insert_into_stations(data, conn):\n",
    "    query = f\"\"\"INSERT INTO stations values {data}\"\"\"\n",
    "    try:\n",
    "        conn.execute(query)\n",
    "    except:\n",
    "        return 'Error'\n",
    "    conn.commit()\n",
    "    return 'OK'"
   ]
  },
  {
   "cell_type": "code",
   "execution_count": 11,
   "id": "97b6ec11-9394-4b27-8203-4892c79cfbc5",
   "metadata": {},
   "outputs": [],
   "source": [
    "# Example use of the function \n",
    "conn = make_connection()\n",
    "data = tuple(stations.iloc[6].fillna('').values) # Randomly select a data\n",
    "result = insert_into_stations(data, conn)"
   ]
  },
  {
   "cell_type": "code",
   "execution_count": 12,
   "id": "513c8720",
   "metadata": {},
   "outputs": [
    {
     "data": {
      "text/plain": [
       "'OK'"
      ]
     },
     "execution_count": 12,
     "metadata": {},
     "output_type": "execute_result"
    }
   ],
   "source": [
    "result"
   ]
  },
  {
   "cell_type": "code",
   "execution_count": 6,
   "id": "f60c63c1",
   "metadata": {},
   "outputs": [
    {
     "data": {
      "text/html": [
       "<div>\n",
       "<style scoped>\n",
       "    .dataframe tbody tr th:only-of-type {\n",
       "        vertical-align: middle;\n",
       "    }\n",
       "\n",
       "    .dataframe tbody tr th {\n",
       "        vertical-align: top;\n",
       "    }\n",
       "\n",
       "    .dataframe thead th {\n",
       "        text-align: right;\n",
       "    }\n",
       "</style>\n",
       "<table border=\"1\" class=\"dataframe\">\n",
       "  <thead>\n",
       "    <tr style=\"text-align: right;\">\n",
       "      <th></th>\n",
       "      <th>station_id</th>\n",
       "      <th>name</th>\n",
       "      <th>status</th>\n",
       "      <th>address</th>\n",
       "      <th>alternate_name</th>\n",
       "      <th>city_asset_number</th>\n",
       "      <th>property_type</th>\n",
       "      <th>number_of_docks</th>\n",
       "      <th>power_type</th>\n",
       "      <th>footprint_length</th>\n",
       "      <th>footprint_width</th>\n",
       "      <th>notes</th>\n",
       "      <th>council_district</th>\n",
       "      <th>modified_date</th>\n",
       "    </tr>\n",
       "  </thead>\n",
       "  <tbody>\n",
       "    <tr>\n",
       "      <th>0</th>\n",
       "      <td>2502</td>\n",
       "      <td>Barton Springs &amp; Riverside</td>\n",
       "      <td>closed</td>\n",
       "      <td>400 Barton Springs Rd.</td>\n",
       "      <td></td>\n",
       "      <td></td>\n",
       "      <td></td>\n",
       "      <td></td>\n",
       "      <td></td>\n",
       "      <td></td>\n",
       "      <td></td>\n",
       "      <td>moved to Pedernales/2nd. Original city ID: 16729</td>\n",
       "      <td>9</td>\n",
       "      <td>2021-01-04T12:00:00Z</td>\n",
       "    </tr>\n",
       "    <tr>\n",
       "      <th>1</th>\n",
       "      <td>3464</td>\n",
       "      <td>Pease Park</td>\n",
       "      <td>closed</td>\n",
       "      <td>1155 Kingsbury St</td>\n",
       "      <td></td>\n",
       "      <td></td>\n",
       "      <td></td>\n",
       "      <td></td>\n",
       "      <td></td>\n",
       "      <td></td>\n",
       "      <td></td>\n",
       "      <td></td>\n",
       "      <td>9</td>\n",
       "      <td>2021-01-04T12:00:00Z</td>\n",
       "    </tr>\n",
       "    <tr>\n",
       "      <th>2</th>\n",
       "      <td>2500</td>\n",
       "      <td>Republic Square</td>\n",
       "      <td>closed</td>\n",
       "      <td>425 W 4th Street</td>\n",
       "      <td></td>\n",
       "      <td></td>\n",
       "      <td></td>\n",
       "      <td></td>\n",
       "      <td></td>\n",
       "      <td></td>\n",
       "      <td></td>\n",
       "      <td></td>\n",
       "      <td>9</td>\n",
       "      <td>2021-01-04T12:00:00Z</td>\n",
       "    </tr>\n",
       "    <tr>\n",
       "      <th>3</th>\n",
       "      <td>2536</td>\n",
       "      <td>Waller &amp; 6th St.</td>\n",
       "      <td>closed</td>\n",
       "      <td>602 Waller St.</td>\n",
       "      <td></td>\n",
       "      <td></td>\n",
       "      <td></td>\n",
       "      <td></td>\n",
       "      <td></td>\n",
       "      <td></td>\n",
       "      <td></td>\n",
       "      <td></td>\n",
       "      <td>3</td>\n",
       "      <td>2021-01-04T12:00:00Z</td>\n",
       "    </tr>\n",
       "    <tr>\n",
       "      <th>4</th>\n",
       "      <td>2538</td>\n",
       "      <td>Bullock Museum @ Congress &amp; MLK</td>\n",
       "      <td>closed</td>\n",
       "      <td>1881 Congress Ave.</td>\n",
       "      <td></td>\n",
       "      <td></td>\n",
       "      <td></td>\n",
       "      <td></td>\n",
       "      <td></td>\n",
       "      <td></td>\n",
       "      <td></td>\n",
       "      <td></td>\n",
       "      <td>1</td>\n",
       "      <td>2021-01-04T12:00:00Z</td>\n",
       "    </tr>\n",
       "    <tr>\n",
       "      <th>...</th>\n",
       "      <td>...</td>\n",
       "      <td>...</td>\n",
       "      <td>...</td>\n",
       "      <td>...</td>\n",
       "      <td>...</td>\n",
       "      <td>...</td>\n",
       "      <td>...</td>\n",
       "      <td>...</td>\n",
       "      <td>...</td>\n",
       "      <td>...</td>\n",
       "      <td>...</td>\n",
       "      <td>...</td>\n",
       "      <td>...</td>\n",
       "      <td>...</td>\n",
       "    </tr>\n",
       "    <tr>\n",
       "      <th>93</th>\n",
       "      <td>4048</td>\n",
       "      <td>South Congress @ Bouldin Creek</td>\n",
       "      <td>active</td>\n",
       "      <td>799 South Congress Avenue</td>\n",
       "      <td></td>\n",
       "      <td>32746</td>\n",
       "      <td>undetermined_parking</td>\n",
       "      <td>13</td>\n",
       "      <td>solar</td>\n",
       "      <td>40.0</td>\n",
       "      <td>5.0</td>\n",
       "      <td></td>\n",
       "      <td>9</td>\n",
       "      <td>2021-01-04T12:00:00Z</td>\n",
       "    </tr>\n",
       "    <tr>\n",
       "      <th>94</th>\n",
       "      <td>3377</td>\n",
       "      <td>MoPac Pedestrian Bridge @ Veterans Drive</td>\n",
       "      <td>active</td>\n",
       "      <td>2105 Veterans Dr.</td>\n",
       "      <td></td>\n",
       "      <td>16598</td>\n",
       "      <td>undetermined_parking</td>\n",
       "      <td>19</td>\n",
       "      <td>solar</td>\n",
       "      <td>55.0</td>\n",
       "      <td>5.0</td>\n",
       "      <td>parkland in ROW/eastment</td>\n",
       "      <td>9</td>\n",
       "      <td>2021-01-04T12:00:00Z</td>\n",
       "    </tr>\n",
       "    <tr>\n",
       "      <th>95</th>\n",
       "      <td>3794</td>\n",
       "      <td>Dean Keeton &amp; Speedway</td>\n",
       "      <td>active</td>\n",
       "      <td>180 E. Dean Keeton St.</td>\n",
       "      <td></td>\n",
       "      <td>32670</td>\n",
       "      <td>undetermined_parking</td>\n",
       "      <td>19</td>\n",
       "      <td>solar</td>\n",
       "      <td>55.0</td>\n",
       "      <td>5.0</td>\n",
       "      <td></td>\n",
       "      <td>9</td>\n",
       "      <td>2021-01-04T12:00:00Z</td>\n",
       "    </tr>\n",
       "    <tr>\n",
       "      <th>96</th>\n",
       "      <td>3795</td>\n",
       "      <td>Dean Keeton &amp; Whitis</td>\n",
       "      <td>active</td>\n",
       "      <td>300 W. Dean Keeton St.</td>\n",
       "      <td></td>\n",
       "      <td>32671</td>\n",
       "      <td>undetermined_parking</td>\n",
       "      <td>19</td>\n",
       "      <td>solar</td>\n",
       "      <td>55.0</td>\n",
       "      <td>5.0</td>\n",
       "      <td></td>\n",
       "      <td>9</td>\n",
       "      <td>2021-01-04T12:00:00Z</td>\n",
       "    </tr>\n",
       "    <tr>\n",
       "      <th>97</th>\n",
       "      <td>3797</td>\n",
       "      <td>21st &amp; University</td>\n",
       "      <td>active</td>\n",
       "      <td>2007 University Ave.</td>\n",
       "      <td></td>\n",
       "      <td>32674</td>\n",
       "      <td>undetermined_parking</td>\n",
       "      <td>19</td>\n",
       "      <td>solar</td>\n",
       "      <td>55.0</td>\n",
       "      <td>5.0</td>\n",
       "      <td>ROW might belong to UT</td>\n",
       "      <td>9</td>\n",
       "      <td>2021-01-04T12:00:00Z</td>\n",
       "    </tr>\n",
       "  </tbody>\n",
       "</table>\n",
       "<p>98 rows × 14 columns</p>\n",
       "</div>"
      ],
      "text/plain": [
       "    station_id                                      name  status  \\\n",
       "0         2502                Barton Springs & Riverside  closed   \n",
       "1         3464                                Pease Park  closed   \n",
       "2         2500                           Republic Square  closed   \n",
       "3         2536                          Waller & 6th St.  closed   \n",
       "4         2538           Bullock Museum @ Congress & MLK  closed   \n",
       "..         ...                                       ...     ...   \n",
       "93        4048            South Congress @ Bouldin Creek  active   \n",
       "94        3377  MoPac Pedestrian Bridge @ Veterans Drive  active   \n",
       "95        3794                    Dean Keeton & Speedway  active   \n",
       "96        3795                      Dean Keeton & Whitis  active   \n",
       "97        3797                         21st & University  active   \n",
       "\n",
       "                      address alternate_name city_asset_number  \\\n",
       "0      400 Barton Springs Rd.                                    \n",
       "1           1155 Kingsbury St                                    \n",
       "2            425 W 4th Street                                    \n",
       "3              602 Waller St.                                    \n",
       "4          1881 Congress Ave.                                    \n",
       "..                        ...            ...               ...   \n",
       "93  799 South Congress Avenue                            32746   \n",
       "94          2105 Veterans Dr.                            16598   \n",
       "95     180 E. Dean Keeton St.                            32670   \n",
       "96     300 W. Dean Keeton St.                            32671   \n",
       "97       2007 University Ave.                            32674   \n",
       "\n",
       "           property_type number_of_docks power_type footprint_length  \\\n",
       "0                                                                      \n",
       "1                                                                      \n",
       "2                                                                      \n",
       "3                                                                      \n",
       "4                                                                      \n",
       "..                   ...             ...        ...              ...   \n",
       "93  undetermined_parking              13      solar             40.0   \n",
       "94  undetermined_parking              19      solar             55.0   \n",
       "95  undetermined_parking              19      solar             55.0   \n",
       "96  undetermined_parking              19      solar             55.0   \n",
       "97  undetermined_parking              19      solar             55.0   \n",
       "\n",
       "   footprint_width                                             notes  \\\n",
       "0                   moved to Pedernales/2nd. Original city ID: 16729   \n",
       "1                                                                      \n",
       "2                                                                      \n",
       "3                                                                      \n",
       "4                                                                      \n",
       "..             ...                                               ...   \n",
       "93             5.0                                                     \n",
       "94             5.0                          parkland in ROW/eastment   \n",
       "95             5.0                                                     \n",
       "96             5.0                                                     \n",
       "97             5.0                            ROW might belong to UT   \n",
       "\n",
       "    council_district         modified_date  \n",
       "0                  9  2021-01-04T12:00:00Z  \n",
       "1                  9  2021-01-04T12:00:00Z  \n",
       "2                  9  2021-01-04T12:00:00Z  \n",
       "3                  3  2021-01-04T12:00:00Z  \n",
       "4                  1  2021-01-04T12:00:00Z  \n",
       "..               ...                   ...  \n",
       "93                 9  2021-01-04T12:00:00Z  \n",
       "94                 9  2021-01-04T12:00:00Z  \n",
       "95                 9  2021-01-04T12:00:00Z  \n",
       "96                 9  2021-01-04T12:00:00Z  \n",
       "97                 9  2021-01-04T12:00:00Z  \n",
       "\n",
       "[98 rows x 14 columns]"
      ]
     },
     "execution_count": 6,
     "metadata": {},
     "output_type": "execute_result"
    }
   ],
   "source": [
    "query = f\"\"\"SELECT * FROM stations\"\"\"\n",
    "result = pd.read_sql_query(query, conn)\n",
    "result"
   ]
  },
  {
   "cell_type": "code",
   "execution_count": 7,
   "id": "ea2a336b",
   "metadata": {},
   "outputs": [
    {
     "data": {
      "text/html": [
       "<div>\n",
       "<style scoped>\n",
       "    .dataframe tbody tr th:only-of-type {\n",
       "        vertical-align: middle;\n",
       "    }\n",
       "\n",
       "    .dataframe tbody tr th {\n",
       "        vertical-align: top;\n",
       "    }\n",
       "\n",
       "    .dataframe thead th {\n",
       "        text-align: right;\n",
       "    }\n",
       "</style>\n",
       "<table border=\"1\" class=\"dataframe\">\n",
       "  <thead>\n",
       "    <tr style=\"text-align: right;\">\n",
       "      <th></th>\n",
       "      <th>id</th>\n",
       "      <th>subscriber_type</th>\n",
       "      <th>bikeid</th>\n",
       "      <th>start_time</th>\n",
       "      <th>start_station_id</th>\n",
       "      <th>start_station_name</th>\n",
       "      <th>end_station_id</th>\n",
       "      <th>end_station_name</th>\n",
       "      <th>duration_minutes</th>\n",
       "    </tr>\n",
       "  </thead>\n",
       "  <tbody>\n",
       "    <tr>\n",
       "      <th>0</th>\n",
       "      <td>9900289692</td>\n",
       "      <td>Walk Up</td>\n",
       "      <td>248</td>\n",
       "      <td>2015-10-02 21:12:01 UTC</td>\n",
       "      <td>1006</td>\n",
       "      <td>Zilker Park West</td>\n",
       "      <td>1008</td>\n",
       "      <td>Nueces @ 3rd</td>\n",
       "      <td>39</td>\n",
       "    </tr>\n",
       "    <tr>\n",
       "      <th>1</th>\n",
       "      <td>9900294004</td>\n",
       "      <td>Local30</td>\n",
       "      <td>248</td>\n",
       "      <td>2015-10-04 15:12:57 UTC</td>\n",
       "      <td>1008</td>\n",
       "      <td>Nueces @ 3rd</td>\n",
       "      <td>1006</td>\n",
       "      <td>Zilker Park West</td>\n",
       "      <td>13</td>\n",
       "    </tr>\n",
       "    <tr>\n",
       "      <th>2</th>\n",
       "      <td>9900341244</td>\n",
       "      <td>Walk Up</td>\n",
       "      <td>248</td>\n",
       "      <td>2014-12-25 13:12:00 UTC</td>\n",
       "      <td>2823</td>\n",
       "      <td>Capital Metro HQ - East 5th at Broadway</td>\n",
       "      <td>2823</td>\n",
       "      <td>Capital Metro HQ - East 5th at Broadway</td>\n",
       "      <td>131</td>\n",
       "    </tr>\n",
       "    <tr>\n",
       "      <th>3</th>\n",
       "      <td>14047391</td>\n",
       "      <td>Local30</td>\n",
       "      <td>248</td>\n",
       "      <td>2017-03-15 15:28:32 UTC</td>\n",
       "      <td>2568</td>\n",
       "      <td>East 11th St. at Victory Grill</td>\n",
       "      <td>2568</td>\n",
       "      <td>East 11th St. at Victory Grill</td>\n",
       "      <td>15</td>\n",
       "    </tr>\n",
       "    <tr>\n",
       "      <th>4</th>\n",
       "      <td>11517679</td>\n",
       "      <td>Walk Up</td>\n",
       "      <td>248</td>\n",
       "      <td>2016-08-21 13:05:35 UTC</td>\n",
       "      <td>3291</td>\n",
       "      <td>11th &amp; San Jacinto</td>\n",
       "      <td>3291</td>\n",
       "      <td>11th &amp; San Jacinto</td>\n",
       "      <td>24</td>\n",
       "    </tr>\n",
       "    <tr>\n",
       "      <th>...</th>\n",
       "      <td>...</td>\n",
       "      <td>...</td>\n",
       "      <td>...</td>\n",
       "      <td>...</td>\n",
       "      <td>...</td>\n",
       "      <td>...</td>\n",
       "      <td>...</td>\n",
       "      <td>...</td>\n",
       "      <td>...</td>\n",
       "    </tr>\n",
       "    <tr>\n",
       "      <th>1681</th>\n",
       "      <td>11831110</td>\n",
       "      <td>Local365</td>\n",
       "      <td>248</td>\n",
       "      <td>2016-09-08 18:10:39 UTC</td>\n",
       "      <td>2552</td>\n",
       "      <td>3rd &amp; West</td>\n",
       "      <td>2711</td>\n",
       "      <td>Barton Springs @ Kinney Ave</td>\n",
       "      <td>6</td>\n",
       "    </tr>\n",
       "    <tr>\n",
       "      <th>1682</th>\n",
       "      <td>10070270</td>\n",
       "      <td>Local365</td>\n",
       "      <td>248</td>\n",
       "      <td>2016-05-19 20:57:37 UTC</td>\n",
       "      <td>2552</td>\n",
       "      <td>3rd &amp; West</td>\n",
       "      <td>2711</td>\n",
       "      <td>Barton Springs @ Kinney Ave</td>\n",
       "      <td>185</td>\n",
       "    </tr>\n",
       "    <tr>\n",
       "      <th>1683</th>\n",
       "      <td>8809667</td>\n",
       "      <td>Local365 ($80 plus tax)</td>\n",
       "      <td>248</td>\n",
       "      <td>2016-02-18 19:06:56 UTC</td>\n",
       "      <td>2552</td>\n",
       "      <td>3rd &amp; West</td>\n",
       "      <td>2711</td>\n",
       "      <td>Barton Springs @ Kinney Ave</td>\n",
       "      <td>6</td>\n",
       "    </tr>\n",
       "    <tr>\n",
       "      <th>1684</th>\n",
       "      <td>10789548</td>\n",
       "      <td>Walk Up</td>\n",
       "      <td>248</td>\n",
       "      <td>2016-07-04 23:17:55 UTC</td>\n",
       "      <td>2552</td>\n",
       "      <td>3rd &amp; West</td>\n",
       "      <td>3292</td>\n",
       "      <td>East 4th &amp; Chicon</td>\n",
       "      <td>13</td>\n",
       "    </tr>\n",
       "    <tr>\n",
       "      <th>1685</th>\n",
       "      <td>13570371</td>\n",
       "      <td>Walk Up</td>\n",
       "      <td>248</td>\n",
       "      <td>2017-01-28 17:39:29 UTC</td>\n",
       "      <td>2552</td>\n",
       "      <td>3rd &amp; West</td>\n",
       "      <td>3455</td>\n",
       "      <td>Republic Square @ Federal Courthouse Plaza</td>\n",
       "      <td>27</td>\n",
       "    </tr>\n",
       "  </tbody>\n",
       "</table>\n",
       "<p>1686 rows × 9 columns</p>\n",
       "</div>"
      ],
      "text/plain": [
       "              id          subscriber_type bikeid               start_time  \\\n",
       "0     9900289692                  Walk Up    248  2015-10-02 21:12:01 UTC   \n",
       "1     9900294004                  Local30    248  2015-10-04 15:12:57 UTC   \n",
       "2     9900341244                  Walk Up    248  2014-12-25 13:12:00 UTC   \n",
       "3       14047391                  Local30    248  2017-03-15 15:28:32 UTC   \n",
       "4       11517679                  Walk Up    248  2016-08-21 13:05:35 UTC   \n",
       "...          ...                      ...    ...                      ...   \n",
       "1681    11831110                 Local365    248  2016-09-08 18:10:39 UTC   \n",
       "1682    10070270                 Local365    248  2016-05-19 20:57:37 UTC   \n",
       "1683     8809667  Local365 ($80 plus tax)    248  2016-02-18 19:06:56 UTC   \n",
       "1684    10789548                  Walk Up    248  2016-07-04 23:17:55 UTC   \n",
       "1685    13570371                  Walk Up    248  2017-01-28 17:39:29 UTC   \n",
       "\n",
       "     start_station_id                       start_station_name end_station_id  \\\n",
       "0                1006                         Zilker Park West           1008   \n",
       "1                1008                             Nueces @ 3rd           1006   \n",
       "2                2823  Capital Metro HQ - East 5th at Broadway           2823   \n",
       "3                2568           East 11th St. at Victory Grill           2568   \n",
       "4                3291                       11th & San Jacinto           3291   \n",
       "...               ...                                      ...            ...   \n",
       "1681             2552                               3rd & West           2711   \n",
       "1682             2552                               3rd & West           2711   \n",
       "1683             2552                               3rd & West           2711   \n",
       "1684             2552                               3rd & West           3292   \n",
       "1685             2552                               3rd & West           3455   \n",
       "\n",
       "                                end_station_name  duration_minutes  \n",
       "0                                   Nueces @ 3rd                39  \n",
       "1                               Zilker Park West                13  \n",
       "2        Capital Metro HQ - East 5th at Broadway               131  \n",
       "3                 East 11th St. at Victory Grill                15  \n",
       "4                             11th & San Jacinto                24  \n",
       "...                                          ...               ...  \n",
       "1681                 Barton Springs @ Kinney Ave                 6  \n",
       "1682                 Barton Springs @ Kinney Ave               185  \n",
       "1683                 Barton Springs @ Kinney Ave                 6  \n",
       "1684                           East 4th & Chicon                13  \n",
       "1685  Republic Square @ Federal Courthouse Plaza                27  \n",
       "\n",
       "[1686 rows x 9 columns]"
      ]
     },
     "execution_count": 7,
     "metadata": {},
     "output_type": "execute_result"
    }
   ],
   "source": [
    "query = f\"\"\"SELECT * FROM trips WHERE bikeid = 248\"\"\"\n",
    "result = pd.read_sql_query(query, conn)\n",
    "result"
   ]
  },
  {
   "cell_type": "code",
   "execution_count": 8,
   "id": "d609b39c",
   "metadata": {
    "scrolled": true
   },
   "outputs": [
    {
     "data": {
      "text/html": [
       "<div>\n",
       "<style scoped>\n",
       "    .dataframe tbody tr th:only-of-type {\n",
       "        vertical-align: middle;\n",
       "    }\n",
       "\n",
       "    .dataframe tbody tr th {\n",
       "        vertical-align: top;\n",
       "    }\n",
       "\n",
       "    .dataframe thead th {\n",
       "        text-align: right;\n",
       "    }\n",
       "</style>\n",
       "<table border=\"1\" class=\"dataframe\">\n",
       "  <thead>\n",
       "    <tr style=\"text-align: right;\">\n",
       "      <th></th>\n",
       "      <th>AVG_MIN</th>\n",
       "    </tr>\n",
       "    <tr>\n",
       "      <th>bikeid</th>\n",
       "      <th></th>\n",
       "    </tr>\n",
       "  </thead>\n",
       "  <tbody>\n",
       "    <tr>\n",
       "      <th>Block05</th>\n",
       "      <td>3385.000000</td>\n",
       "    </tr>\n",
       "    <tr>\n",
       "      <th>Block02</th>\n",
       "      <td>671.800000</td>\n",
       "    </tr>\n",
       "    <tr>\n",
       "      <th>19456</th>\n",
       "      <td>225.265957</td>\n",
       "    </tr>\n",
       "    <tr>\n",
       "      <th>17283</th>\n",
       "      <td>163.539877</td>\n",
       "    </tr>\n",
       "    <tr>\n",
       "      <th>172</th>\n",
       "      <td>113.118644</td>\n",
       "    </tr>\n",
       "    <tr>\n",
       "      <th>...</th>\n",
       "      <td>...</td>\n",
       "    </tr>\n",
       "    <tr>\n",
       "      <th>1475</th>\n",
       "      <td>19.400282</td>\n",
       "    </tr>\n",
       "    <tr>\n",
       "      <th>1386</th>\n",
       "      <td>18.772345</td>\n",
       "    </tr>\n",
       "    <tr>\n",
       "      <th>1797</th>\n",
       "      <td>17.613208</td>\n",
       "    </tr>\n",
       "    <tr>\n",
       "      <th>14244</th>\n",
       "      <td>4.000000</td>\n",
       "    </tr>\n",
       "    <tr>\n",
       "      <th>Block03</th>\n",
       "      <td>2.000000</td>\n",
       "    </tr>\n",
       "  </tbody>\n",
       "</table>\n",
       "<p>842 rows × 1 columns</p>\n",
       "</div>"
      ],
      "text/plain": [
       "             AVG_MIN\n",
       "bikeid              \n",
       "Block05  3385.000000\n",
       "Block02   671.800000\n",
       "19456     225.265957\n",
       "17283     163.539877\n",
       "172       113.118644\n",
       "...              ...\n",
       "1475       19.400282\n",
       "1386       18.772345\n",
       "1797       17.613208\n",
       "14244       4.000000\n",
       "Block03     2.000000\n",
       "\n",
       "[842 rows x 1 columns]"
      ]
     },
     "execution_count": 8,
     "metadata": {},
     "output_type": "execute_result"
    }
   ],
   "source": [
    "query = f\"\"\"SELECT bikeid, avg(duration_minutes) AS AVG_MIN FROM trips GROUP BY bikeid ORDER BY AVG_MIN DESC\"\"\"\n",
    "result = pd.read_sql_query(query, conn, index_col='bikeid')\n",
    "result"
   ]
  },
  {
   "cell_type": "code",
   "execution_count": 9,
   "id": "ed71e93f",
   "metadata": {},
   "outputs": [
    {
     "data": {
      "text/html": [
       "<div>\n",
       "<style scoped>\n",
       "    .dataframe tbody tr th:only-of-type {\n",
       "        vertical-align: middle;\n",
       "    }\n",
       "\n",
       "    .dataframe tbody tr th {\n",
       "        vertical-align: top;\n",
       "    }\n",
       "\n",
       "    .dataframe thead th {\n",
       "        text-align: right;\n",
       "    }\n",
       "</style>\n",
       "<table border=\"1\" class=\"dataframe\">\n",
       "  <thead>\n",
       "    <tr style=\"text-align: right;\">\n",
       "      <th></th>\n",
       "      <th>AVG_MIN</th>\n",
       "    </tr>\n",
       "    <tr>\n",
       "      <th>bikeid</th>\n",
       "      <th></th>\n",
       "    </tr>\n",
       "  </thead>\n",
       "  <tbody>\n",
       "    <tr>\n",
       "      <th>Block05</th>\n",
       "      <td>3385.000000</td>\n",
       "    </tr>\n",
       "    <tr>\n",
       "      <th>Block02</th>\n",
       "      <td>671.800000</td>\n",
       "    </tr>\n",
       "    <tr>\n",
       "      <th>19456</th>\n",
       "      <td>225.265957</td>\n",
       "    </tr>\n",
       "    <tr>\n",
       "      <th>17283</th>\n",
       "      <td>163.539877</td>\n",
       "    </tr>\n",
       "    <tr>\n",
       "      <th>172</th>\n",
       "      <td>113.118644</td>\n",
       "    </tr>\n",
       "    <tr>\n",
       "      <th>...</th>\n",
       "      <td>...</td>\n",
       "    </tr>\n",
       "    <tr>\n",
       "      <th>1475</th>\n",
       "      <td>19.400282</td>\n",
       "    </tr>\n",
       "    <tr>\n",
       "      <th>1386</th>\n",
       "      <td>18.772345</td>\n",
       "    </tr>\n",
       "    <tr>\n",
       "      <th>1797</th>\n",
       "      <td>17.613208</td>\n",
       "    </tr>\n",
       "    <tr>\n",
       "      <th>14244</th>\n",
       "      <td>4.000000</td>\n",
       "    </tr>\n",
       "    <tr>\n",
       "      <th>Block03</th>\n",
       "      <td>2.000000</td>\n",
       "    </tr>\n",
       "  </tbody>\n",
       "</table>\n",
       "<p>842 rows × 1 columns</p>\n",
       "</div>"
      ],
      "text/plain": [
       "             AVG_MIN\n",
       "bikeid              \n",
       "Block05  3385.000000\n",
       "Block02   671.800000\n",
       "19456     225.265957\n",
       "17283     163.539877\n",
       "172       113.118644\n",
       "...              ...\n",
       "1475       19.400282\n",
       "1386       18.772345\n",
       "1797       17.613208\n",
       "14244       4.000000\n",
       "Block03     2.000000\n",
       "\n",
       "[842 rows x 1 columns]"
      ]
     },
     "execution_count": 9,
     "metadata": {},
     "output_type": "execute_result"
    }
   ],
   "source": [
    "query = f\"\"\"SELECT bikeid, avg(duration_minutes) AS AVG_MIN FROM trips GROUP BY bikeid ORDER BY AVG_MIN DESC\"\"\"\n",
    "result = pd.read_sql_query(query, conn, index_col='bikeid')\n",
    "result"
   ]
  },
  {
   "cell_type": "markdown",
   "id": "d9beafb2-ee93-4532-a0f9-b10ac56a6835",
   "metadata": {},
   "source": [
    "**TASK: Create a Function to insert data for `trips` table**"
   ]
  },
  {
   "cell_type": "code",
   "execution_count": 17,
   "id": "aac0820e-2594-49c5-a98f-e72e8917da48",
   "metadata": {},
   "outputs": [],
   "source": [
    "# Your code here\n",
    "def insert_into_trips(data, conn):\n",
    "    query = f\"\"\"INSERT INTO trips values {data}\"\"\"\n",
    "    try:\n",
    "        conn.execute(query)\n",
    "    except:\n",
    "        return 'Error'\n",
    "    conn.commit()\n",
    "    return 'OK'\n"
   ]
  },
  {
   "cell_type": "code",
   "execution_count": 18,
   "id": "36639f03",
   "metadata": {},
   "outputs": [],
   "source": [
    "# Example use of the function \n",
    "conn = make_connection()\n",
    "data = tuple(trips.iloc[6].fillna('').values) # Randomly select a data\n",
    "result = insert_into_trips(data, conn)"
   ]
  },
  {
   "cell_type": "code",
   "execution_count": 19,
   "id": "bcdef581",
   "metadata": {},
   "outputs": [
    {
     "data": {
      "text/plain": [
       "'OK'"
      ]
     },
     "execution_count": 19,
     "metadata": {},
     "output_type": "execute_result"
    }
   ],
   "source": [
    "result"
   ]
  },
  {
   "cell_type": "markdown",
   "id": "72c93934-9c7e-495e-8613-9a5e73833577",
   "metadata": {},
   "source": [
    "## GET: Read specific data"
   ]
  },
  {
   "cell_type": "markdown",
   "id": "f2486c61-a982-4d9f-831f-1fa77a21a417",
   "metadata": {},
   "source": [
    "Generally, GET method will ask for specific the data in the database, alongside with additional information we might send. For example: \n",
    "- Get number of unique user\n",
    "- Get full trips information for specific user id\n",
    "- Get average trips duration and length for specific user id\n",
    "\n",
    "In this example, we will implement the most basic GET method, that is to get Station information in the table based on specific Station ID"
   ]
  },
  {
   "cell_type": "code",
   "execution_count": 10,
   "id": "09b1e8f2-fc04-4c06-a23e-d31a93f65ccd",
   "metadata": {},
   "outputs": [],
   "source": [
    "# Get Specific Station ID  Query\n",
    "station_id = 2500\n",
    "query_station_id = f\"\"\"\n",
    "SELECT * FROM stations\n",
    "WHERE station_id = {station_id}\n",
    "\"\"\"\n",
    "\n",
    "# Get all station ID Query\n",
    "query_station_all = \"SELECT * FROM stations\""
   ]
  },
  {
   "cell_type": "code",
   "execution_count": 11,
   "id": "c4e317b7",
   "metadata": {},
   "outputs": [
    {
     "name": "stdout",
     "output_type": "stream",
     "text": [
      "\n",
      "SELECT * FROM stations\n",
      "WHERE station_id = 2500\n",
      "\n"
     ]
    }
   ],
   "source": [
    "print(query_station_id)"
   ]
  },
  {
   "cell_type": "code",
   "execution_count": 12,
   "id": "2b014e89-f857-4e18-9607-2b7d6139a1de",
   "metadata": {},
   "outputs": [],
   "source": [
    "# Run the query and get the result\n",
    "result = pd.read_sql_query(query_station_id, conn)"
   ]
  },
  {
   "cell_type": "code",
   "execution_count": 13,
   "id": "5c7a54ab-e979-4c1c-b27c-60e501cb3733",
   "metadata": {},
   "outputs": [
    {
     "data": {
      "text/html": [
       "<div>\n",
       "<style scoped>\n",
       "    .dataframe tbody tr th:only-of-type {\n",
       "        vertical-align: middle;\n",
       "    }\n",
       "\n",
       "    .dataframe tbody tr th {\n",
       "        vertical-align: top;\n",
       "    }\n",
       "\n",
       "    .dataframe thead th {\n",
       "        text-align: right;\n",
       "    }\n",
       "</style>\n",
       "<table border=\"1\" class=\"dataframe\">\n",
       "  <thead>\n",
       "    <tr style=\"text-align: right;\">\n",
       "      <th></th>\n",
       "      <th>station_id</th>\n",
       "      <th>name</th>\n",
       "      <th>status</th>\n",
       "      <th>address</th>\n",
       "      <th>alternate_name</th>\n",
       "      <th>city_asset_number</th>\n",
       "      <th>property_type</th>\n",
       "      <th>number_of_docks</th>\n",
       "      <th>power_type</th>\n",
       "      <th>footprint_length</th>\n",
       "      <th>footprint_width</th>\n",
       "      <th>notes</th>\n",
       "      <th>council_district</th>\n",
       "      <th>modified_date</th>\n",
       "    </tr>\n",
       "  </thead>\n",
       "  <tbody>\n",
       "    <tr>\n",
       "      <th>0</th>\n",
       "      <td>2500</td>\n",
       "      <td>Republic Square</td>\n",
       "      <td>closed</td>\n",
       "      <td>425 W 4th Street</td>\n",
       "      <td></td>\n",
       "      <td></td>\n",
       "      <td></td>\n",
       "      <td></td>\n",
       "      <td></td>\n",
       "      <td></td>\n",
       "      <td></td>\n",
       "      <td></td>\n",
       "      <td>9</td>\n",
       "      <td>2021-01-04T12:00:00Z</td>\n",
       "    </tr>\n",
       "  </tbody>\n",
       "</table>\n",
       "</div>"
      ],
      "text/plain": [
       "   station_id             name  status           address alternate_name  \\\n",
       "0        2500  Republic Square  closed  425 W 4th Street                  \n",
       "\n",
       "  city_asset_number property_type number_of_docks power_type footprint_length  \\\n",
       "0                                                                               \n",
       "\n",
       "  footprint_width notes  council_district         modified_date  \n",
       "0                                       9  2021-01-04T12:00:00Z  "
      ]
     },
     "execution_count": 13,
     "metadata": {},
     "output_type": "execute_result"
    }
   ],
   "source": [
    "result"
   ]
  },
  {
   "cell_type": "markdown",
   "id": "4e589298-cbb0-4720-8275-7f09c18a9cca",
   "metadata": {},
   "source": [
    "Just like the previous section, create a function to read specific station"
   ]
  },
  {
   "cell_type": "code",
   "execution_count": 14,
   "id": "697114ad-0305-4d98-8cad-fa384be07e6b",
   "metadata": {},
   "outputs": [],
   "source": [
    "def get_station_id(station_id, conn):\n",
    "    query = f\"\"\"SELECT * FROM stations WHERE station_id = {station_id}\"\"\"\n",
    "    result = pd.read_sql_query(query, conn)\n",
    "    return result \n",
    "\n",
    "def get_all_stations(conn):\n",
    "    query = f\"\"\"SELECT * FROM stations\"\"\"\n",
    "    result = pd.read_sql_query(query, conn)\n",
    "    return result"
   ]
  },
  {
   "cell_type": "markdown",
   "id": "d4d9eae2-06d8-4fed-a14b-adb32a3fbe1d",
   "metadata": {},
   "source": [
    "**TASK: Create a Function to read data from `trips` table**"
   ]
  },
  {
   "cell_type": "code",
   "execution_count": 15,
   "id": "543a6298-aace-41f2-bc0f-9ae0277f5428",
   "metadata": {},
   "outputs": [],
   "source": [
    "# Your code here\n",
    "def get_trip_id(trip_id, conn):\n",
    "    query = f\"\"\"SELECT * FROM trips WHERE trip_id = {trip_id}\"\"\"\n",
    "    result = pd.read_sql_query(query, conn)\n",
    "    return result \n",
    "    \n",
    "def get_all_trips(conn):\n",
    "    query = f\"\"\"SELECT * FROM trips\"\"\"\n",
    "    result = pd.read_sql_query(query, conn)\n",
    "    return result"
   ]
  },
  {
   "cell_type": "markdown",
   "id": "b024e79d-c7db-43ca-a226-45e934c5cdc0",
   "metadata": {},
   "source": [
    "# Flask App"
   ]
  },
  {
   "cell_type": "markdown",
   "id": "d167587d-7e47-443c-b237-07f4201a6848",
   "metadata": {},
   "source": [
    "Flask is a micro-framework for python. Generally we can build any application out of it. To start with, let's make our first empy flask app. \n",
    "Creata a new file `app.py`, then copy-paste the following codes into it and save it. \n",
    "\n",
    "*Notes: it's recomended to use vscode as editor since it support vast linting supports, including python which we find really helpful in coding*"
   ]
  },
  {
   "cell_type": "markdown",
   "id": "fae662bf-4667-4b4c-a5a8-e8118d45e151",
   "metadata": {},
   "source": [
    "```python\n",
    "from flask import Flask, request\n",
    "app = Flask(__name__) \n",
    "\n",
    "if __name__ == '__main__':\n",
    "    app.run(debug=True, port=5000)\n",
    "```"
   ]
  },
  {
   "cell_type": "markdown",
   "id": "20a3e191-2d1d-42f2-b620-ab8d4535fe5f",
   "metadata": {},
   "source": [
    "To run the app, you can open your terminal, go to the specific folder and run `python app.py` using your designated virtual environment"
   ]
  },
  {
   "cell_type": "markdown",
   "id": "b7bd4362-55ad-48e7-9ed5-a9efb269d191",
   "metadata": {},
   "source": [
    "## Routes and Endpoints"
   ]
  },
  {
   "cell_type": "markdown",
   "id": "87f78576-5db9-40cc-9ccf-5f865caf0689",
   "metadata": {},
   "source": [
    "### Implement endpoints"
   ]
  },
  {
   "cell_type": "markdown",
   "id": "e52ff12b-2613-4a15-ad98-5cf8881eb5ed",
   "metadata": {},
   "source": [
    "If you succesfully run the previous app and access the localhost:5000 , you might get an 404 not found error. This is because we **have not** define yet what will happen if people accessing our root path of the app (localhost:5000/)\n",
    "\n",
    "Add the following example of route or endpoint into your `app.py` just before the `if __name__ === '__main__':` line, and reload the page to see if it works"
   ]
  },
  {
   "cell_type": "markdown",
   "id": "6870c3db-a88d-4ae6-a791-04f9e212f3f8",
   "metadata": {},
   "source": [
    "```python \n",
    "@app.route('/')\n",
    "def home():\n",
    "    return 'Hello World'\n",
    "```"
   ]
  },
  {
   "cell_type": "markdown",
   "id": "f23f1514-2ea7-4699-9b3c-b8ba2ee608eb",
   "metadata": {},
   "source": [
    "Above endpoints will runs the `home` function anytime user access the `/` page.\n",
    "\n",
    "Since we are going to handle all the requests through this app, the very next step is to implement our functionalites. Let's start with implementing the functionality to read all station data\n",
    "\n",
    "we will add the `get_all_stations()` functions into our app, create a `@app.route('/stations/')` endpoint and call the function in it. The code should looks like:\n",
    "\n",
    "```python \n",
    "@app.route('/stations/')\n",
    "def route_all_stations():\n",
    "    conn = make_connection()\n",
    "    stations = get_all_stations(conn)\n",
    "    return stations.to_json()\n",
    "    \n",
    "def get_all_stations(conn):\n",
    "    query = f\"\"\"SELECT * FROM stations\"\"\"\n",
    "    result = pd.read_sql_query(query, conn)\n",
    "    return result\n",
    "```"
   ]
  },
  {
   "cell_type": "markdown",
   "id": "11a81990-4add-4a66-8771-4832866f938b",
   "metadata": {},
   "source": [
    "However, adding just above codes is not enough. If you see, there is a dependency inside the function, which is `make_connection()` function. Other than that, we will be using all the required libraries. \n",
    "\n",
    "Hence, we can complete the code by : \n",
    "- import the required libraries at the top of the `app.py` file\n",
    "- write the `make_connection()` function before any routes declarations"
   ]
  },
  {
   "cell_type": "markdown",
   "id": "536b16f2-1cc4-4605-88ae-feee9cc6eec7",
   "metadata": {},
   "source": [
    "Once it's completed, you should see no errors in the vscode screen, and your endpoint should work just fine and returns all the stations. It's now your task to impelement the `get_all_trips` into the app "
   ]
  },
  {
   "cell_type": "markdown",
   "id": "c8eec277-fdd5-4367-83e5-f6916794b186",
   "metadata": {},
   "source": [
    "**TASK: Implement `get_all_trips()` method into the app** \\\n",
    "Place it under `@app.route('/trips/')` endpoint"
   ]
  },
  {
   "cell_type": "code",
   "execution_count": 17,
   "id": "bdcc3e6c",
   "metadata": {},
   "outputs": [],
   "source": [
    "# your code\n",
    "@app.route('/trips/')\n",
    "def route_all_trips():\n",
    "    conn = make_connection()\n",
    "    trips = get_all_trips(conn)\n",
    "    return trips.to_json()\n",
    "    \n",
    "def get_all_trips(conn):\n",
    "    query = f\"\"\"SELECT * FROM trips\"\"\"\n",
    "    result = pd.read_sql_query(query, conn)\n",
    "    return result"
   ]
  },
  {
   "cell_type": "markdown",
   "id": "bc45734a-5d15-4e4c-837f-64ab1cafdde6",
   "metadata": {},
   "source": [
    "### Access Endpoints"
   ]
  },
  {
   "cell_type": "markdown",
   "id": "43143d5d-a361-4141-8f35-2b47f112075a",
   "metadata": {},
   "source": [
    "To access our endpoints using python, simply use `requests` library followed by the request method (post, get, put, delete, etc) the passed in the url or data "
   ]
  },
  {
   "cell_type": "code",
   "execution_count": 18,
   "id": "f1a3ebbe-591d-4b38-b858-6ef1ea787d74",
   "metadata": {},
   "outputs": [],
   "source": [
    "url = 'http://127.0.0.1:5000/stations/'\n",
    "res = requests.get(url)"
   ]
  },
  {
   "cell_type": "code",
   "execution_count": 19,
   "id": "64a3ec96",
   "metadata": {},
   "outputs": [
    {
     "data": {
      "text/plain": [
       "<Response [200]>"
      ]
     },
     "execution_count": 19,
     "metadata": {},
     "output_type": "execute_result"
    }
   ],
   "source": [
    "res"
   ]
  },
  {
   "cell_type": "markdown",
   "id": "9a74d722-50f9-4c1c-9fca-ab8708cf9848",
   "metadata": {},
   "source": [
    "The response sent by the server was not only contains bare data. It was packed as HTTP response, meaning that we need to unpack the response first  in order to get the data. we can use `res.json()` to obtain it, then use pandas to transform it into dataframe for readibility or future analysis purposes. "
   ]
  },
  {
   "cell_type": "code",
   "execution_count": 20,
   "id": "c2b40a51-3e8f-4991-b58e-70cb3b95f345",
   "metadata": {},
   "outputs": [
    {
     "data": {
      "text/html": [
       "<div>\n",
       "<style scoped>\n",
       "    .dataframe tbody tr th:only-of-type {\n",
       "        vertical-align: middle;\n",
       "    }\n",
       "\n",
       "    .dataframe tbody tr th {\n",
       "        vertical-align: top;\n",
       "    }\n",
       "\n",
       "    .dataframe thead th {\n",
       "        text-align: right;\n",
       "    }\n",
       "</style>\n",
       "<table border=\"1\" class=\"dataframe\">\n",
       "  <thead>\n",
       "    <tr style=\"text-align: right;\">\n",
       "      <th></th>\n",
       "      <th>station_id</th>\n",
       "      <th>name</th>\n",
       "      <th>status</th>\n",
       "      <th>address</th>\n",
       "      <th>alternate_name</th>\n",
       "      <th>city_asset_number</th>\n",
       "      <th>property_type</th>\n",
       "      <th>number_of_docks</th>\n",
       "      <th>power_type</th>\n",
       "      <th>footprint_length</th>\n",
       "      <th>footprint_width</th>\n",
       "      <th>notes</th>\n",
       "      <th>council_district</th>\n",
       "      <th>modified_date</th>\n",
       "    </tr>\n",
       "  </thead>\n",
       "  <tbody>\n",
       "    <tr>\n",
       "      <th>0</th>\n",
       "      <td>2502</td>\n",
       "      <td>Barton Springs &amp; Riverside</td>\n",
       "      <td>closed</td>\n",
       "      <td>400 Barton Springs Rd.</td>\n",
       "      <td></td>\n",
       "      <td></td>\n",
       "      <td></td>\n",
       "      <td></td>\n",
       "      <td></td>\n",
       "      <td></td>\n",
       "      <td></td>\n",
       "      <td>moved to Pedernales/2nd. Original city ID: 16729</td>\n",
       "      <td>9</td>\n",
       "      <td>2021-01-04T12:00:00Z</td>\n",
       "    </tr>\n",
       "    <tr>\n",
       "      <th>1</th>\n",
       "      <td>3464</td>\n",
       "      <td>Pease Park</td>\n",
       "      <td>closed</td>\n",
       "      <td>1155 Kingsbury St</td>\n",
       "      <td></td>\n",
       "      <td></td>\n",
       "      <td></td>\n",
       "      <td></td>\n",
       "      <td></td>\n",
       "      <td></td>\n",
       "      <td></td>\n",
       "      <td></td>\n",
       "      <td>9</td>\n",
       "      <td>2021-01-04T12:00:00Z</td>\n",
       "    </tr>\n",
       "    <tr>\n",
       "      <th>2</th>\n",
       "      <td>2500</td>\n",
       "      <td>Republic Square</td>\n",
       "      <td>closed</td>\n",
       "      <td>425 W 4th Street</td>\n",
       "      <td></td>\n",
       "      <td></td>\n",
       "      <td></td>\n",
       "      <td></td>\n",
       "      <td></td>\n",
       "      <td></td>\n",
       "      <td></td>\n",
       "      <td></td>\n",
       "      <td>9</td>\n",
       "      <td>2021-01-04T12:00:00Z</td>\n",
       "    </tr>\n",
       "    <tr>\n",
       "      <th>3</th>\n",
       "      <td>2536</td>\n",
       "      <td>Waller &amp; 6th St.</td>\n",
       "      <td>closed</td>\n",
       "      <td>602 Waller St.</td>\n",
       "      <td></td>\n",
       "      <td></td>\n",
       "      <td></td>\n",
       "      <td></td>\n",
       "      <td></td>\n",
       "      <td></td>\n",
       "      <td></td>\n",
       "      <td></td>\n",
       "      <td>3</td>\n",
       "      <td>2021-01-04T12:00:00Z</td>\n",
       "    </tr>\n",
       "    <tr>\n",
       "      <th>4</th>\n",
       "      <td>2538</td>\n",
       "      <td>Bullock Museum @ Congress &amp; MLK</td>\n",
       "      <td>closed</td>\n",
       "      <td>1881 Congress Ave.</td>\n",
       "      <td></td>\n",
       "      <td></td>\n",
       "      <td></td>\n",
       "      <td></td>\n",
       "      <td></td>\n",
       "      <td></td>\n",
       "      <td></td>\n",
       "      <td></td>\n",
       "      <td>1</td>\n",
       "      <td>2021-01-04T12:00:00Z</td>\n",
       "    </tr>\n",
       "    <tr>\n",
       "      <th>...</th>\n",
       "      <td>...</td>\n",
       "      <td>...</td>\n",
       "      <td>...</td>\n",
       "      <td>...</td>\n",
       "      <td>...</td>\n",
       "      <td>...</td>\n",
       "      <td>...</td>\n",
       "      <td>...</td>\n",
       "      <td>...</td>\n",
       "      <td>...</td>\n",
       "      <td>...</td>\n",
       "      <td>...</td>\n",
       "      <td>...</td>\n",
       "      <td>...</td>\n",
       "    </tr>\n",
       "    <tr>\n",
       "      <th>93</th>\n",
       "      <td>4048</td>\n",
       "      <td>South Congress @ Bouldin Creek</td>\n",
       "      <td>active</td>\n",
       "      <td>799 South Congress Avenue</td>\n",
       "      <td></td>\n",
       "      <td>32746</td>\n",
       "      <td>undetermined_parking</td>\n",
       "      <td>13</td>\n",
       "      <td>solar</td>\n",
       "      <td>40.0</td>\n",
       "      <td>5.0</td>\n",
       "      <td></td>\n",
       "      <td>9</td>\n",
       "      <td>2021-01-04T12:00:00Z</td>\n",
       "    </tr>\n",
       "    <tr>\n",
       "      <th>94</th>\n",
       "      <td>3377</td>\n",
       "      <td>MoPac Pedestrian Bridge @ Veterans Drive</td>\n",
       "      <td>active</td>\n",
       "      <td>2105 Veterans Dr.</td>\n",
       "      <td></td>\n",
       "      <td>16598</td>\n",
       "      <td>undetermined_parking</td>\n",
       "      <td>19</td>\n",
       "      <td>solar</td>\n",
       "      <td>55.0</td>\n",
       "      <td>5.0</td>\n",
       "      <td>parkland in ROW/eastment</td>\n",
       "      <td>9</td>\n",
       "      <td>2021-01-04T12:00:00Z</td>\n",
       "    </tr>\n",
       "    <tr>\n",
       "      <th>95</th>\n",
       "      <td>3794</td>\n",
       "      <td>Dean Keeton &amp; Speedway</td>\n",
       "      <td>active</td>\n",
       "      <td>180 E. Dean Keeton St.</td>\n",
       "      <td></td>\n",
       "      <td>32670</td>\n",
       "      <td>undetermined_parking</td>\n",
       "      <td>19</td>\n",
       "      <td>solar</td>\n",
       "      <td>55.0</td>\n",
       "      <td>5.0</td>\n",
       "      <td></td>\n",
       "      <td>9</td>\n",
       "      <td>2021-01-04T12:00:00Z</td>\n",
       "    </tr>\n",
       "    <tr>\n",
       "      <th>96</th>\n",
       "      <td>3795</td>\n",
       "      <td>Dean Keeton &amp; Whitis</td>\n",
       "      <td>active</td>\n",
       "      <td>300 W. Dean Keeton St.</td>\n",
       "      <td></td>\n",
       "      <td>32671</td>\n",
       "      <td>undetermined_parking</td>\n",
       "      <td>19</td>\n",
       "      <td>solar</td>\n",
       "      <td>55.0</td>\n",
       "      <td>5.0</td>\n",
       "      <td></td>\n",
       "      <td>9</td>\n",
       "      <td>2021-01-04T12:00:00Z</td>\n",
       "    </tr>\n",
       "    <tr>\n",
       "      <th>97</th>\n",
       "      <td>3797</td>\n",
       "      <td>21st &amp; University</td>\n",
       "      <td>active</td>\n",
       "      <td>2007 University Ave.</td>\n",
       "      <td></td>\n",
       "      <td>32674</td>\n",
       "      <td>undetermined_parking</td>\n",
       "      <td>19</td>\n",
       "      <td>solar</td>\n",
       "      <td>55.0</td>\n",
       "      <td>5.0</td>\n",
       "      <td>ROW might belong to UT</td>\n",
       "      <td>9</td>\n",
       "      <td>2021-01-04T12:00:00Z</td>\n",
       "    </tr>\n",
       "  </tbody>\n",
       "</table>\n",
       "<p>98 rows × 14 columns</p>\n",
       "</div>"
      ],
      "text/plain": [
       "    station_id                                      name  status  \\\n",
       "0         2502                Barton Springs & Riverside  closed   \n",
       "1         3464                                Pease Park  closed   \n",
       "2         2500                           Republic Square  closed   \n",
       "3         2536                          Waller & 6th St.  closed   \n",
       "4         2538           Bullock Museum @ Congress & MLK  closed   \n",
       "..         ...                                       ...     ...   \n",
       "93        4048            South Congress @ Bouldin Creek  active   \n",
       "94        3377  MoPac Pedestrian Bridge @ Veterans Drive  active   \n",
       "95        3794                    Dean Keeton & Speedway  active   \n",
       "96        3795                      Dean Keeton & Whitis  active   \n",
       "97        3797                         21st & University  active   \n",
       "\n",
       "                      address alternate_name city_asset_number  \\\n",
       "0      400 Barton Springs Rd.                                    \n",
       "1           1155 Kingsbury St                                    \n",
       "2            425 W 4th Street                                    \n",
       "3              602 Waller St.                                    \n",
       "4          1881 Congress Ave.                                    \n",
       "..                        ...            ...               ...   \n",
       "93  799 South Congress Avenue                            32746   \n",
       "94          2105 Veterans Dr.                            16598   \n",
       "95     180 E. Dean Keeton St.                            32670   \n",
       "96     300 W. Dean Keeton St.                            32671   \n",
       "97       2007 University Ave.                            32674   \n",
       "\n",
       "           property_type number_of_docks power_type footprint_length  \\\n",
       "0                                                                      \n",
       "1                                                                      \n",
       "2                                                                      \n",
       "3                                                                      \n",
       "4                                                                      \n",
       "..                   ...             ...        ...              ...   \n",
       "93  undetermined_parking              13      solar             40.0   \n",
       "94  undetermined_parking              19      solar             55.0   \n",
       "95  undetermined_parking              19      solar             55.0   \n",
       "96  undetermined_parking              19      solar             55.0   \n",
       "97  undetermined_parking              19      solar             55.0   \n",
       "\n",
       "   footprint_width                                             notes  \\\n",
       "0                   moved to Pedernales/2nd. Original city ID: 16729   \n",
       "1                                                                      \n",
       "2                                                                      \n",
       "3                                                                      \n",
       "4                                                                      \n",
       "..             ...                                               ...   \n",
       "93             5.0                                                     \n",
       "94             5.0                          parkland in ROW/eastment   \n",
       "95             5.0                                                     \n",
       "96             5.0                                                     \n",
       "97             5.0                            ROW might belong to UT   \n",
       "\n",
       "    council_district         modified_date  \n",
       "0                  9  2021-01-04T12:00:00Z  \n",
       "1                  9  2021-01-04T12:00:00Z  \n",
       "2                  9  2021-01-04T12:00:00Z  \n",
       "3                  3  2021-01-04T12:00:00Z  \n",
       "4                  1  2021-01-04T12:00:00Z  \n",
       "..               ...                   ...  \n",
       "93                 9  2021-01-04T12:00:00Z  \n",
       "94                 9  2021-01-04T12:00:00Z  \n",
       "95                 9  2021-01-04T12:00:00Z  \n",
       "96                 9  2021-01-04T12:00:00Z  \n",
       "97                 9  2021-01-04T12:00:00Z  \n",
       "\n",
       "[98 rows x 14 columns]"
      ]
     },
     "execution_count": 20,
     "metadata": {},
     "output_type": "execute_result"
    }
   ],
   "source": [
    "pd.DataFrame(res.json())#.head()"
   ]
  },
  {
   "cell_type": "markdown",
   "id": "adbd0b76-5fa5-4b0e-acfa-85774528130f",
   "metadata": {},
   "source": [
    "## Static and Dynamic Endpoints"
   ]
  },
  {
   "cell_type": "markdown",
   "id": "479eec15-63e3-421a-8227-0d46b6a7349c",
   "metadata": {},
   "source": [
    "On previous part we already made several endpoints which control how our server will react whenever users access it. \n",
    "If we take a look at the endpoints, it's all static : \n",
    "- `@app.route('/')`\n",
    "- `@app.route('/home/')`\n",
    "- `@app.route('/stations/')`\n",
    "- `@app.route('/trips/')`\n",
    "\n",
    "\n",
    "What if, instead of getting all the stations information, we only wanted to read a specific station information of station_id 3464 ? \\\n",
    "should we make an excact endpoint of that like `@app.route('stations/3464')`?. But what about the others? are we going to make a bunch of endpoints for each specific id like: \n",
    "- `@app.route('/stations/3464')`\n",
    "- `@app.route('/stations/2500')`\n",
    "- `@app.route('/stations/2541')`\n",
    "- and so on...\n",
    "\n",
    "Of course we shouldn't. One way to overcome the problem is by delcaring a **dynamic endpoints**. Basically, it's an endpoint which allows user to insert a variable values in it. The final looks of the dynamic endpoint version of above problem is: \n",
    "- `@app.route('stations/<station_id>')`\n",
    "\n",
    "From above endpoint, the \\<station_id\\> is the variable, and we need to make sure that it influence how our following function acts. The whole dynamic endpoints for getting specific station by its id will looks like: \n",
    "\n",
    "```python \n",
    "@app.route('/stations/<station_id>')\n",
    "def route_stations_id(station_id):\n",
    "    conn = make_connection()\n",
    "    station = get_station_id(station_id, conn)\n",
    "    return station.to_json()\n",
    "```\n"
   ]
  },
  {
   "cell_type": "markdown",
   "id": "4a91fb67-4645-4097-b266-e1c8f77c8b5d",
   "metadata": {},
   "source": [
    "Before accesing the endpoint, make sure that `make_connection()` and `get_station_id()` functions are included inside `app.py` script so that it won't raise an error. Now for the final step, we can try to access the dynamic endpoints by changing the `station_id` in the following codes"
   ]
  },
  {
   "cell_type": "code",
   "execution_count": 21,
   "id": "3d97afd6-6673-46c2-9ea8-6920dca5eba4",
   "metadata": {},
   "outputs": [],
   "source": [
    "station_id = 2546\n",
    "url = f\"http://127.0.0.1:5000/stations/{station_id}\""
   ]
  },
  {
   "cell_type": "code",
   "execution_count": 22,
   "id": "c948b850-fd61-4e3c-9b54-45c8741c3d21",
   "metadata": {},
   "outputs": [
    {
     "data": {
      "text/html": [
       "<div>\n",
       "<style scoped>\n",
       "    .dataframe tbody tr th:only-of-type {\n",
       "        vertical-align: middle;\n",
       "    }\n",
       "\n",
       "    .dataframe tbody tr th {\n",
       "        vertical-align: top;\n",
       "    }\n",
       "\n",
       "    .dataframe thead th {\n",
       "        text-align: right;\n",
       "    }\n",
       "</style>\n",
       "<table border=\"1\" class=\"dataframe\">\n",
       "  <thead>\n",
       "    <tr style=\"text-align: right;\">\n",
       "      <th></th>\n",
       "      <th>station_id</th>\n",
       "      <th>name</th>\n",
       "      <th>status</th>\n",
       "      <th>address</th>\n",
       "      <th>alternate_name</th>\n",
       "      <th>city_asset_number</th>\n",
       "      <th>property_type</th>\n",
       "      <th>number_of_docks</th>\n",
       "      <th>power_type</th>\n",
       "      <th>footprint_length</th>\n",
       "      <th>footprint_width</th>\n",
       "      <th>notes</th>\n",
       "      <th>council_district</th>\n",
       "      <th>modified_date</th>\n",
       "    </tr>\n",
       "  </thead>\n",
       "  <tbody>\n",
       "    <tr>\n",
       "      <th>0</th>\n",
       "      <td>2546</td>\n",
       "      <td>ACC - West &amp; 12th Street</td>\n",
       "      <td>closed</td>\n",
       "      <td>1231 West Ave.</td>\n",
       "      <td></td>\n",
       "      <td></td>\n",
       "      <td></td>\n",
       "      <td></td>\n",
       "      <td></td>\n",
       "      <td></td>\n",
       "      <td></td>\n",
       "      <td></td>\n",
       "      <td>9</td>\n",
       "      <td>2021-01-04T12:00:00Z</td>\n",
       "    </tr>\n",
       "  </tbody>\n",
       "</table>\n",
       "</div>"
      ],
      "text/plain": [
       "   station_id                      name  status         address  \\\n",
       "0        2546  ACC - West & 12th Street  closed  1231 West Ave.   \n",
       "\n",
       "  alternate_name city_asset_number property_type number_of_docks power_type  \\\n",
       "0                                                                             \n",
       "\n",
       "  footprint_length footprint_width notes  council_district  \\\n",
       "0                                                        9   \n",
       "\n",
       "          modified_date  \n",
       "0  2021-01-04T12:00:00Z  "
      ]
     },
     "execution_count": 22,
     "metadata": {},
     "output_type": "execute_result"
    }
   ],
   "source": [
    "response = requests.get(url)\n",
    "pd.DataFrame(response.json())"
   ]
  },
  {
   "cell_type": "markdown",
   "id": "7c5ca64f-b5ae-4fe3-890f-71419a69bfa3",
   "metadata": {},
   "source": [
    "**TASK: Implement dynamic endpoints to read specific trip by its trip_id!** \\\n",
    "Place it under `@app.route('/trips/<trip_id>')` endpoint"
   ]
  },
  {
   "cell_type": "markdown",
   "id": "52ec2ce8-6950-4c20-9bdb-38e35311d26a",
   "metadata": {},
   "source": [
    "## Handling JSON data as input"
   ]
  },
  {
   "cell_type": "markdown",
   "id": "d694cb3a-c753-4aeb-880f-458236146532",
   "metadata": {},
   "source": [
    "Sometimes, in order to make something happens in our API, we need the user to send us the data. In this case, we need to handle how we can get the data (which mostly sent as json format) and utilize it inside our endpoint functions. \n",
    "\n",
    "In order to achieve that, we will be using flask's `request` classes.\n",
    "\n",
    "\n",
    "```python\n",
    "@app.route('/json') \n",
    "def json_example():\n",
    "    \n",
    "    req = request.get_json(force=True) # Parse the incoming json data as Dictionary\n",
    "    \n",
    "    name = req['name']\n",
    "    age = req['age']\n",
    "    address = req['address']\n",
    "    \n",
    "    return (f'''Hello {name}, your age is {age}, and your address in {address}\n",
    "            ''')\n",
    "```"
   ]
  },
  {
   "cell_type": "code",
   "execution_count": 23,
   "id": "33519e1a-3cd1-4abc-9a20-c2d981fad894",
   "metadata": {},
   "outputs": [],
   "source": [
    "data = {\n",
    "    \"name\" : \"Andi\", \n",
    "    \"age\" : 24,\n",
    "    \"address\" : \"my adress\"\n",
    "}\n",
    "\n",
    "url = \"http://127.0.0.1:5000/json\""
   ]
  },
  {
   "cell_type": "code",
   "execution_count": 24,
   "id": "9b66724f-6439-4aec-a8b5-48b4a781521b",
   "metadata": {},
   "outputs": [],
   "source": [
    "res = requests.post(url, json=data)"
   ]
  },
  {
   "cell_type": "code",
   "execution_count": 25,
   "id": "3e0f21c9-402a-4b12-bcc7-4c4534f23e5c",
   "metadata": {},
   "outputs": [
    {
     "data": {
      "text/plain": [
       "<Response [200]>"
      ]
     },
     "execution_count": 25,
     "metadata": {},
     "output_type": "execute_result"
    }
   ],
   "source": [
    "res"
   ]
  },
  {
   "cell_type": "code",
   "execution_count": 26,
   "id": "59d76173-58d9-4e38-a50d-a1ac72c3519f",
   "metadata": {},
   "outputs": [
    {
     "data": {
      "text/plain": [
       "'Hello Andi, your age is 24, and your address in my adress\\n            '"
      ]
     },
     "execution_count": 26,
     "metadata": {},
     "output_type": "execute_result"
    }
   ],
   "source": [
    "res.text"
   ]
  },
  {
   "cell_type": "markdown",
   "id": "188e3467-bff8-4919-bc90-a86cb8c4eaff",
   "metadata": {},
   "source": [
    "Now that we already know how to handle json input, we can try to implement and endpoint in which we can insert new data into `stations` table. "
   ]
  },
  {
   "cell_type": "markdown",
   "id": "1729b881-beac-48ef-bc19-01cda9a6d77a",
   "metadata": {},
   "source": [
    "```python\n",
    "\n",
    "@app.route('/stations/add', methods=['POST']) \n",
    "def route_add_station():\n",
    "    # parse and transform incoming data into a tuple as we need \n",
    "    data = pd.Series(eval(request.get_json(force=True)))\n",
    "    data = tuple(data.fillna('').values)\n",
    "    \n",
    "    conn = make_connection()\n",
    "    result = insert_into_stations(data, conn)\n",
    "    return result\n",
    "\n",
    "\n",
    "```"
   ]
  },
  {
   "cell_type": "code",
   "execution_count": 27,
   "id": "00348fc5-105b-41c7-a5e6-e69e1c19b4fa",
   "metadata": {},
   "outputs": [],
   "source": [
    "class NpEncoder(json.JSONEncoder):\n",
    "    def default(self, obj):\n",
    "        if isinstance(obj, np.integer):\n",
    "            return int(obj)\n",
    "        if isinstance(obj, np.floating):\n",
    "            return float(obj)\n",
    "        if isinstance(obj, np.ndarray):\n",
    "            return obj.tolist()\n",
    "        return super(NpEncoder, self).default(obj)"
   ]
  },
  {
   "cell_type": "code",
   "execution_count": 28,
   "id": "12746054-6c95-4a95-a6a0-37a2dc24c347",
   "metadata": {},
   "outputs": [],
   "source": [
    "data = stations.iloc[20].fillna('').to_dict()\n",
    "data_json = json.dumps(data, cls=NpEncoder)"
   ]
  },
  {
   "cell_type": "code",
   "execution_count": 29,
   "id": "b9eef315-96d2-46e3-b5ab-07d34e299629",
   "metadata": {},
   "outputs": [],
   "source": [
    "url = \"http://127.0.0.1:5000/stations/add\"\n",
    "res = requests.post(url, json=data_json)"
   ]
  },
  {
   "cell_type": "code",
   "execution_count": 30,
   "id": "fa80e62f-75c4-47f5-a0fb-3eaa08200b66",
   "metadata": {},
   "outputs": [
    {
     "data": {
      "text/plain": [
       "<Response [200]>"
      ]
     },
     "execution_count": 30,
     "metadata": {},
     "output_type": "execute_result"
    }
   ],
   "source": [
    "res"
   ]
  },
  {
   "cell_type": "code",
   "execution_count": 31,
   "id": "8996edb2",
   "metadata": {},
   "outputs": [
    {
     "data": {
      "text/plain": [
       "'Error'"
      ]
     },
     "execution_count": 31,
     "metadata": {},
     "output_type": "execute_result"
    }
   ],
   "source": [
    "res.text"
   ]
  },
  {
   "cell_type": "code",
   "execution_count": 83,
   "id": "7a0d3ece-e370-4861-9c03-31361c394c01",
   "metadata": {},
   "outputs": [
    {
     "name": "stderr",
     "output_type": "stream",
     "text": [
      "98it [00:01, 61.13it/s]\n"
     ]
    }
   ],
   "source": [
    "# Sintaks for iteratively insert stations (from stations_csv) into stations table\n",
    "\n",
    "for idx, data in tqdm(stations.iterrows()):\n",
    "    data = data.fillna('').to_dict()\n",
    "    data_json = json.dumps(data, cls=NpEncoder)\n",
    "    \n",
    "    url = \"http://127.0.0.1:5000/stations/add\"\n",
    "    res = requests.post(url, json=data_json)"
   ]
  },
  {
   "cell_type": "markdown",
   "id": "f7d0f146-9af5-4873-816e-d7a1990d0d2e",
   "metadata": {},
   "source": [
    "**TASK: Using the API, insert all the trips data (in csv) into the database by running the following codes**\\\n",
    "It might run differently on each devices, so you might get some rest while waiting for it to complete"
   ]
  },
  {
   "cell_type": "code",
   "execution_count": 93,
   "id": "f943160a-230d-4548-8685-25c17d8f0641",
   "metadata": {},
   "outputs": [
    {
     "name": "stderr",
     "output_type": "stream",
     "text": [
      "17982it [01:57, 152.78it/s]\n"
     ]
    }
   ],
   "source": [
    "for idx, data in tqdm(trips.iterrows()):\n",
    "    data = data.fillna('').to_dict()\n",
    "    data_json = json.dumps(data, cls=NpEncoder)\n",
    "    headers = {'user-agent': 'Mozilla/5.0 (Windows NT 10.0; Win64; x64) AppleWebKit/537.36 (KHTML, like Gecko) Chrome/86.0.4240.75 Safari/537.36'}\n",
    "    url = \"http://127.0.0.1:5000/trips/add\"\n",
    "    res = requests.post(url, headers=headers)"
   ]
  },
  {
   "cell_type": "code",
   "execution_count": 94,
   "id": "7f4adf19",
   "metadata": {},
   "outputs": [
    {
     "data": {
      "text/plain": [
       "<Response [404]>"
      ]
     },
     "execution_count": 94,
     "metadata": {},
     "output_type": "execute_result"
    }
   ],
   "source": [
    "res"
   ]
  },
  {
   "cell_type": "markdown",
   "id": "e9ca0d0f-f38d-4ce2-b7e2-961452ab315e",
   "metadata": {},
   "source": [
    "# Make your own analytic endpoints"
   ]
  },
  {
   "cell_type": "markdown",
   "id": "7a8500f2-9e2f-4515-8ce1-ce4a581132b5",
   "metadata": {},
   "source": [
    "Based on what we've learned before, create your own endpoints which returns analytical result such as contigency tables, aggregation tables, or even just a values.\n",
    "\n",
    "*ps: if the return is dataframe/series, don't forget to change it into json with `.to_json()` method*"
   ]
  },
  {
   "cell_type": "markdown",
   "id": "ce22ac68-1a8d-4030-9a9a-1764a074dde5",
   "metadata": {},
   "source": [
    "\n",
    "- [x] 1 point - Created Flask App\n",
    "- [x] 4 points - Created functionality to input new data into each table for the databases\n",
    "- [x] 2 poitns - Created functionality to read or get specific data from the database\n",
    "- [ ] 3 points - Created static endpoints which return analytical result (must be different from point 2,3)\n",
    "- [ ] 3 points - Created dynamic endpoints which return analytical result (must be different from point 2,3,4)\n",
    "- [ ] 3 points - Created POST endpoint which receive input data, then utilize it to get analytical result (must be different from point 2,3,4,5)\n"
   ]
  },
  {
   "cell_type": "markdown",
   "id": "9349b196-e43e-4bbc-8d71-75c2f957d9af",
   "metadata": {},
   "source": [
    "## Create Static Endpoint(s)"
   ]
  },
  {
   "cell_type": "markdown",
   "id": "0ba0e764-89a5-4189-a24a-837c8fbf304c",
   "metadata": {},
   "source": [
    "You can use the following cell to try-out your function before implementing it as an endpoint.\n",
    "After created the endpoint, make sure to implement it to `app.py` file."
   ]
  },
  {
   "cell_type": "code",
   "execution_count": 33,
   "id": "ae10cd37",
   "metadata": {},
   "outputs": [],
   "source": [
    "@app.route('/trips/average_duration')\n",
    "def avg_all_bikes(conn, bikeid):\n",
    "    conn = make_connection()\n",
    "    avgs = get_avg_all_bikes(conn, bikeid)\n",
    "    return avgs.to_json()\n",
    "    \n",
    "def get_avg_all_bikes(conn, bikeid):\n",
    "    query = f\"\"\"SELECT bikeid, AVG(duration_minutes) AS AVG_MIN FROM trips WHERE bikeid = {bikeid} GROUP BY bikeid ORDER BY AVG_MIN DESC\"\"\"\n",
    "    result = pd.read_sql_query(query, conn, index_col='bikeid')\n",
    "    return result"
   ]
  },
  {
   "cell_type": "code",
   "execution_count": 34,
   "id": "76dce2d3",
   "metadata": {},
   "outputs": [
    {
     "data": {
      "text/plain": [
       "'{\"AVG_MIN\":{\"19456\":225.2659574468}}'"
      ]
     },
     "execution_count": 34,
     "metadata": {},
     "output_type": "execute_result"
    }
   ],
   "source": [
    "avg_all_bikes(conn, 19456)"
   ]
  },
  {
   "cell_type": "code",
   "execution_count": 75,
   "id": "8867038e-0ad4-4ea3-94e6-6cf904ea18a8",
   "metadata": {
    "collapsed": true
   },
   "outputs": [
    {
     "ename": "SyntaxError",
     "evalue": "incomplete input (3792391672.py, line 2)",
     "output_type": "error",
     "traceback": [
      "\u001b[1;36m  Input \u001b[1;32mIn [75]\u001b[1;36m\u001b[0m\n\u001b[1;33m    @app.route('/trips/average_duration')\u001b[0m\n\u001b[1;37m                                          ^\u001b[0m\n\u001b[1;31mSyntaxError\u001b[0m\u001b[1;31m:\u001b[0m incomplete input\n"
     ]
    }
   ],
   "source": [
    "# Your Code Here \n",
    "@app.route('/trips/average_duration') "
   ]
  },
  {
   "cell_type": "code",
   "execution_count": null,
   "id": "0b0dcd04",
   "metadata": {},
   "outputs": [],
   "source": []
  },
  {
   "cell_type": "code",
   "execution_count": null,
   "id": "25c75e60",
   "metadata": {},
   "outputs": [],
   "source": []
  },
  {
   "cell_type": "code",
   "execution_count": 35,
   "id": "ba19890b",
   "metadata": {},
   "outputs": [],
   "source": [
    "def get_bike_id(bikeid, conn):\n",
    "    query = f\"\"\"SELECT * FROM trips WHERE bikeid = {bikeid}\"\"\"\n",
    "    result = pd.read_sql_query(query, conn)\n",
    "    return result "
   ]
  },
  {
   "cell_type": "code",
   "execution_count": 36,
   "id": "5797f5b0",
   "metadata": {},
   "outputs": [
    {
     "data": {
      "text/html": [
       "<div>\n",
       "<style scoped>\n",
       "    .dataframe tbody tr th:only-of-type {\n",
       "        vertical-align: middle;\n",
       "    }\n",
       "\n",
       "    .dataframe tbody tr th {\n",
       "        vertical-align: top;\n",
       "    }\n",
       "\n",
       "    .dataframe thead th {\n",
       "        text-align: right;\n",
       "    }\n",
       "</style>\n",
       "<table border=\"1\" class=\"dataframe\">\n",
       "  <thead>\n",
       "    <tr style=\"text-align: right;\">\n",
       "      <th></th>\n",
       "      <th>id</th>\n",
       "      <th>subscriber_type</th>\n",
       "      <th>bikeid</th>\n",
       "      <th>start_time</th>\n",
       "      <th>start_station_id</th>\n",
       "      <th>start_station_name</th>\n",
       "      <th>end_station_id</th>\n",
       "      <th>end_station_name</th>\n",
       "      <th>duration_minutes</th>\n",
       "    </tr>\n",
       "  </thead>\n",
       "  <tbody>\n",
       "    <tr>\n",
       "      <th>0</th>\n",
       "      <td>21610363</td>\n",
       "      <td>Local365</td>\n",
       "      <td>19456</td>\n",
       "      <td>2020-02-24 16:32:42 UTC</td>\n",
       "      <td>3635</td>\n",
       "      <td>13th/San Antonio</td>\n",
       "      <td>2561</td>\n",
       "      <td>12th/San Jacinto @ State Capitol Visitors Garage</td>\n",
       "      <td>6</td>\n",
       "    </tr>\n",
       "    <tr>\n",
       "      <th>1</th>\n",
       "      <td>21613188</td>\n",
       "      <td>Local365</td>\n",
       "      <td>19456</td>\n",
       "      <td>2020-02-25 15:07:47 UTC</td>\n",
       "      <td>3635</td>\n",
       "      <td>13th/San Antonio</td>\n",
       "      <td>2561</td>\n",
       "      <td>12th/San Jacinto @ State Capitol Visitors Garage</td>\n",
       "      <td>4</td>\n",
       "    </tr>\n",
       "    <tr>\n",
       "      <th>2</th>\n",
       "      <td>21619370</td>\n",
       "      <td>Local365</td>\n",
       "      <td>19456</td>\n",
       "      <td>2020-02-27 16:17:07 UTC</td>\n",
       "      <td>3635</td>\n",
       "      <td>13th/San Antonio</td>\n",
       "      <td>2561</td>\n",
       "      <td>12th/San Jacinto @ State Capitol Visitors Garage</td>\n",
       "      <td>9</td>\n",
       "    </tr>\n",
       "    <tr>\n",
       "      <th>3</th>\n",
       "      <td>21789006</td>\n",
       "      <td>Local30</td>\n",
       "      <td>19456</td>\n",
       "      <td>2020-04-14 14:39:13 UTC</td>\n",
       "      <td>4062</td>\n",
       "      <td>Lakeshore/Pleasant Valley</td>\n",
       "      <td>4062</td>\n",
       "      <td>Lakeshore/Pleasant Valley</td>\n",
       "      <td>38</td>\n",
       "    </tr>\n",
       "    <tr>\n",
       "      <th>4</th>\n",
       "      <td>21789129</td>\n",
       "      <td>Local30</td>\n",
       "      <td>19456</td>\n",
       "      <td>2020-04-14 15:18:19 UTC</td>\n",
       "      <td>4062</td>\n",
       "      <td>Lakeshore/Pleasant Valley</td>\n",
       "      <td>4059</td>\n",
       "      <td>Nash Hernandez/East @ RBJ South</td>\n",
       "      <td>83</td>\n",
       "    </tr>\n",
       "    <tr>\n",
       "      <th>...</th>\n",
       "      <td>...</td>\n",
       "      <td>...</td>\n",
       "      <td>...</td>\n",
       "      <td>...</td>\n",
       "      <td>...</td>\n",
       "      <td>...</td>\n",
       "      <td>...</td>\n",
       "      <td>...</td>\n",
       "      <td>...</td>\n",
       "    </tr>\n",
       "    <tr>\n",
       "      <th>89</th>\n",
       "      <td>21751064</td>\n",
       "      <td>Explorer</td>\n",
       "      <td>19456</td>\n",
       "      <td>2020-04-01 17:07:17 UTC</td>\n",
       "      <td>3838</td>\n",
       "      <td>26th/Nueces</td>\n",
       "      <td>2547</td>\n",
       "      <td>21st/Guadalupe</td>\n",
       "      <td>35</td>\n",
       "    </tr>\n",
       "    <tr>\n",
       "      <th>90</th>\n",
       "      <td>21728832</td>\n",
       "      <td>Local30</td>\n",
       "      <td>19456</td>\n",
       "      <td>2020-03-26 14:53:21 UTC</td>\n",
       "      <td>3838</td>\n",
       "      <td>26th/Nueces</td>\n",
       "      <td>3793</td>\n",
       "      <td>28th/Rio Grande</td>\n",
       "      <td>52</td>\n",
       "    </tr>\n",
       "    <tr>\n",
       "      <th>91</th>\n",
       "      <td>21728658</td>\n",
       "      <td>Local30</td>\n",
       "      <td>19456</td>\n",
       "      <td>2020-03-26 14:09:41 UTC</td>\n",
       "      <td>3838</td>\n",
       "      <td>26th/Nueces</td>\n",
       "      <td>3838</td>\n",
       "      <td>26th/Nueces</td>\n",
       "      <td>43</td>\n",
       "    </tr>\n",
       "    <tr>\n",
       "      <th>92</th>\n",
       "      <td>21728493</td>\n",
       "      <td>Local30</td>\n",
       "      <td>19456</td>\n",
       "      <td>2020-03-26 13:26:53 UTC</td>\n",
       "      <td>3838</td>\n",
       "      <td>26th/Nueces</td>\n",
       "      <td>3838</td>\n",
       "      <td>26th/Nueces</td>\n",
       "      <td>43</td>\n",
       "    </tr>\n",
       "    <tr>\n",
       "      <th>93</th>\n",
       "      <td>21888278</td>\n",
       "      <td>Local365</td>\n",
       "      <td>19456</td>\n",
       "      <td>2020-05-04 21:19:51 UTC</td>\n",
       "      <td>3838</td>\n",
       "      <td>26th/Nueces</td>\n",
       "      <td>3841</td>\n",
       "      <td>23rd/Rio Grande</td>\n",
       "      <td>50</td>\n",
       "    </tr>\n",
       "  </tbody>\n",
       "</table>\n",
       "<p>94 rows × 9 columns</p>\n",
       "</div>"
      ],
      "text/plain": [
       "          id subscriber_type bikeid               start_time  \\\n",
       "0   21610363        Local365  19456  2020-02-24 16:32:42 UTC   \n",
       "1   21613188        Local365  19456  2020-02-25 15:07:47 UTC   \n",
       "2   21619370        Local365  19456  2020-02-27 16:17:07 UTC   \n",
       "3   21789006         Local30  19456  2020-04-14 14:39:13 UTC   \n",
       "4   21789129         Local30  19456  2020-04-14 15:18:19 UTC   \n",
       "..       ...             ...    ...                      ...   \n",
       "89  21751064        Explorer  19456  2020-04-01 17:07:17 UTC   \n",
       "90  21728832         Local30  19456  2020-03-26 14:53:21 UTC   \n",
       "91  21728658         Local30  19456  2020-03-26 14:09:41 UTC   \n",
       "92  21728493         Local30  19456  2020-03-26 13:26:53 UTC   \n",
       "93  21888278        Local365  19456  2020-05-04 21:19:51 UTC   \n",
       "\n",
       "    start_station_id         start_station_name  end_station_id  \\\n",
       "0               3635           13th/San Antonio            2561   \n",
       "1               3635           13th/San Antonio            2561   \n",
       "2               3635           13th/San Antonio            2561   \n",
       "3               4062  Lakeshore/Pleasant Valley            4062   \n",
       "4               4062  Lakeshore/Pleasant Valley            4059   \n",
       "..               ...                        ...             ...   \n",
       "89              3838                26th/Nueces            2547   \n",
       "90              3838                26th/Nueces            3793   \n",
       "91              3838                26th/Nueces            3838   \n",
       "92              3838                26th/Nueces            3838   \n",
       "93              3838                26th/Nueces            3841   \n",
       "\n",
       "                                    end_station_name  duration_minutes  \n",
       "0   12th/San Jacinto @ State Capitol Visitors Garage                 6  \n",
       "1   12th/San Jacinto @ State Capitol Visitors Garage                 4  \n",
       "2   12th/San Jacinto @ State Capitol Visitors Garage                 9  \n",
       "3                          Lakeshore/Pleasant Valley                38  \n",
       "4                    Nash Hernandez/East @ RBJ South                83  \n",
       "..                                               ...               ...  \n",
       "89                                    21st/Guadalupe                35  \n",
       "90                                   28th/Rio Grande                52  \n",
       "91                                       26th/Nueces                43  \n",
       "92                                       26th/Nueces                43  \n",
       "93                                   23rd/Rio Grande                50  \n",
       "\n",
       "[94 rows x 9 columns]"
      ]
     },
     "execution_count": 36,
     "metadata": {},
     "output_type": "execute_result"
    }
   ],
   "source": [
    "get_bike_id(19456, conn)"
   ]
  },
  {
   "cell_type": "markdown",
   "id": "3f1c8d87-b066-48dc-b9db-2339aa3693db",
   "metadata": {},
   "source": [
    "## Create Dynamic Endpoints "
   ]
  },
  {
   "cell_type": "markdown",
   "id": "46eecec9-49c8-4c02-835a-cb4a813c41ad",
   "metadata": {},
   "source": [
    "You can use the following cell to try-out your function before implementing it as an endpoint.\n",
    "\n",
    "After created the endpoint, make sure to implement it to `app.py` file."
   ]
  },
  {
   "cell_type": "code",
   "execution_count": null,
   "id": "9918b0ea-11df-4a03-af50-7138266a4072",
   "metadata": {},
   "outputs": [],
   "source": [
    "# Your Code Here\n",
    "@app.route('/trips/average_duration/<bike_id>')"
   ]
  },
  {
   "cell_type": "code",
   "execution_count": 37,
   "id": "74b66945",
   "metadata": {},
   "outputs": [],
   "source": [
    "def avg_bike_id(bikeid):\n",
    "    conn = make_connection()\n",
    "    avg = get_bike_id(bikeid, conn)\n",
    "    return avg.to_json()"
   ]
  },
  {
   "cell_type": "code",
   "execution_count": 38,
   "id": "7bf872c0",
   "metadata": {},
   "outputs": [
    {
     "data": {
      "text/plain": [
       "'{\"id\":{\"0\":21610363,\"1\":21613188,\"2\":21619370,\"3\":21789006,\"4\":21789129,\"5\":21808545,\"6\":21807372,\"7\":21787332,\"8\":21786847,\"9\":21928479,\"10\":22007400,\"11\":22015662,\"12\":21866256,\"13\":22165726,\"14\":21617944,\"15\":22090049,\"16\":21957130,\"17\":21928862,\"18\":22025684,\"19\":21929675,\"20\":21884637,\"21\":22115449,\"22\":22161759,\"23\":21611430,\"24\":21614681,\"25\":21621988,\"26\":21888508,\"27\":21705407,\"28\":21712910,\"29\":21958272,\"30\":21943932,\"31\":22077522,\"32\":22076766,\"33\":22078731,\"34\":22080393,\"35\":21888038,\"36\":22080986,\"37\":21926869,\"38\":21901776,\"39\":21919861,\"40\":21927770,\"41\":21929379,\"42\":22129846,\"43\":21728207,\"44\":21928202,\"45\":22099622,\"46\":22133022,\"47\":21979145,\"48\":21653847,\"49\":21608849,\"50\":21609117,\"51\":21608697,\"52\":21608397,\"53\":22136585,\"54\":22136216,\"55\":22027877,\"56\":21936347,\"57\":22162380,\"58\":21728308,\"59\":21650495,\"60\":21600164,\"61\":21610149,\"62\":21618684,\"63\":21963502,\"64\":21607993,\"65\":22090026,\"66\":21705944,\"67\":21706131,\"68\":22091505,\"69\":21969940,\"70\":21783894,\"71\":21608049,\"72\":21764336,\"73\":21729090,\"74\":21728294,\"75\":21755381,\"76\":22117722,\"77\":21887511,\"78\":22074525,\"79\":21947340,\"80\":21947027,\"81\":21716529,\"82\":22118613,\"83\":22163097,\"84\":21751345,\"85\":21759803,\"86\":21750689,\"87\":22103084,\"88\":21723243,\"89\":21751064,\"90\":21728832,\"91\":21728658,\"92\":21728493,\"93\":21888278},\"subscriber_type\":{\"0\":\"Local365\",\"1\":\"Local365\",\"2\":\"Local365\",\"3\":\"Local30\",\"4\":\"Local30\",\"5\":\"Single Trip (Pay-as-you-ride)\",\"6\":\"24 Hour Walk Up Pass\",\"7\":\"24 Hour Walk Up Pass\",\"8\":\"Local30\",\"9\":\"Local365\",\"10\":\"Pay-as-you-ride\",\"11\":\"3-Day Weekender\",\"12\":\"Explorer\",\"13\":\"Single Trip (Pay-as-you-ride)\",\"14\":\"Local365\",\"15\":\"Local365\",\"16\":\"Local30\",\"17\":\"Local365\",\"18\":\"24 Hour Walk Up Pass\",\"19\":\"Local365\",\"20\":\"Single Trip (Pay-as-you-ride)\",\"21\":\"Local365\",\"22\":\"Pay-as-you-ride\",\"23\":\"Local365\",\"24\":\"Local365\",\"25\":\"24 Hour Walk Up Pass\",\"26\":\"Local365\",\"27\":\"24 Hour Walk Up Pass\",\"28\":\"Local365\",\"29\":\"Explorer\",\"30\":\"Local365\",\"31\":\"Single Trip (Pay-as-you-ride)\",\"32\":\"Single Trip (Pay-as-you-ride)\",\"33\":\"Single Trip (Pay-as-you-ride)\",\"34\":\"24 Hour Walk Up Pass\",\"35\":\"Local365\",\"36\":\"24 Hour Walk Up Pass\",\"37\":\"Pay-as-you-ride\",\"38\":\"Explorer\",\"39\":\"Single Trip (Pay-as-you-ride)\",\"40\":\"Local365\",\"41\":\"Local365\",\"42\":\"Explorer\",\"43\":\"Local30\",\"44\":\"Local365\",\"45\":\"Local30\",\"46\":\"Explorer\",\"47\":\"3-Day Weekender\",\"48\":\"24 Hour Walk Up Pass\",\"49\":\"Explorer\",\"50\":\"Explorer\",\"51\":\"Explorer\",\"52\":\"Single Trip (Pay-as-you-ride)\",\"53\":\"Pay-as-you-ride\",\"54\":\"Local30\",\"55\":\"Local365\",\"56\":\"Local365\",\"57\":\"Pay-as-you-ride\",\"58\":\"Local30\",\"59\":\"Local365\",\"60\":\"Explorer\",\"61\":\"Local365\",\"62\":\"Local365\",\"63\":\"24 Hour Walk Up Pass\",\"64\":\"Explorer\",\"65\":\"Local365\",\"66\":\"24 Hour Walk Up Pass\",\"67\":\"24 Hour Walk Up Pass\",\"68\":\"Local365\",\"69\":\"Pay-as-you-ride\",\"70\":\"Local365\",\"71\":\"Explorer\",\"72\":\"Single Trip (Pay-as-you-ride)\",\"73\":\"Local30\",\"74\":\"Local30\",\"75\":\"24 Hour Walk Up Pass\",\"76\":\"24 Hour Walk Up Pass\",\"77\":\"Local365\",\"78\":\"Explorer\",\"79\":\"Pay-as-you-ride\",\"80\":\"Single Trip (Pay-as-you-ride)\",\"81\":\"U.T. Student Membership\",\"82\":\"Local365\",\"83\":\"Pay-as-you-ride\",\"84\":\"Explorer\",\"85\":\"Explorer\",\"86\":\"Explorer\",\"87\":\"Local30\",\"88\":\"Local365 Youth (age 13-17 riders)\",\"89\":\"Explorer\",\"90\":\"Local30\",\"91\":\"Local30\",\"92\":\"Local30\",\"93\":\"Local365\"},\"bikeid\":{\"0\":\"19456\",\"1\":\"19456\",\"2\":\"19456\",\"3\":\"19456\",\"4\":\"19456\",\"5\":\"19456\",\"6\":\"19456\",\"7\":\"19456\",\"8\":\"19456\",\"9\":\"19456\",\"10\":\"19456\",\"11\":\"19456\",\"12\":\"19456\",\"13\":\"19456\",\"14\":\"19456\",\"15\":\"19456\",\"16\":\"19456\",\"17\":\"19456\",\"18\":\"19456\",\"19\":\"19456\",\"20\":\"19456\",\"21\":\"19456\",\"22\":\"19456\",\"23\":\"19456\",\"24\":\"19456\",\"25\":\"19456\",\"26\":\"19456\",\"27\":\"19456\",\"28\":\"19456\",\"29\":\"19456\",\"30\":\"19456\",\"31\":\"19456\",\"32\":\"19456\",\"33\":\"19456\",\"34\":\"19456\",\"35\":\"19456\",\"36\":\"19456\",\"37\":\"19456\",\"38\":\"19456\",\"39\":\"19456\",\"40\":\"19456\",\"41\":\"19456\",\"42\":\"19456\",\"43\":\"19456\",\"44\":\"19456\",\"45\":\"19456\",\"46\":\"19456\",\"47\":\"19456\",\"48\":\"19456\",\"49\":\"19456\",\"50\":\"19456\",\"51\":\"19456\",\"52\":\"19456\",\"53\":\"19456\",\"54\":\"19456\",\"55\":\"19456\",\"56\":\"19456\",\"57\":\"19456\",\"58\":\"19456\",\"59\":\"19456\",\"60\":\"19456\",\"61\":\"19456\",\"62\":\"19456\",\"63\":\"19456\",\"64\":\"19456\",\"65\":\"19456\",\"66\":\"19456\",\"67\":\"19456\",\"68\":\"19456\",\"69\":\"19456\",\"70\":\"19456\",\"71\":\"19456\",\"72\":\"19456\",\"73\":\"19456\",\"74\":\"19456\",\"75\":\"19456\",\"76\":\"19456\",\"77\":\"19456\",\"78\":\"19456\",\"79\":\"19456\",\"80\":\"19456\",\"81\":\"19456\",\"82\":\"19456\",\"83\":\"19456\",\"84\":\"19456\",\"85\":\"19456\",\"86\":\"19456\",\"87\":\"19456\",\"88\":\"19456\",\"89\":\"19456\",\"90\":\"19456\",\"91\":\"19456\",\"92\":\"19456\",\"93\":\"19456\"},\"start_time\":{\"0\":\"2020-02-24 16:32:42 UTC\",\"1\":\"2020-02-25 15:07:47 UTC\",\"2\":\"2020-02-27 16:17:07 UTC\",\"3\":\"2020-04-14 14:39:13 UTC\",\"4\":\"2020-04-14 15:18:19 UTC\",\"5\":\"2020-04-20 08:26:28 UTC\",\"6\":\"2020-04-19 17:58:28 UTC\",\"7\":\"2020-04-13 16:53:23 UTC\",\"8\":\"2020-04-13 14:36:43 UTC\",\"9\":\"2020-05-11 18:33:48 UTC\",\"10\":\"2020-05-23 13:24:22 UTC\",\"11\":\"2020-05-24 10:57:17 UTC\",\"12\":\"2020-05-02 11:57:05 UTC\",\"13\":\"2020-06-13 21:50:02 UTC\",\"14\":\"2020-02-27 10:54:30 UTC\",\"15\":\"2020-06-03 07:14:56 UTC\",\"16\":\"2020-05-16 13:00:54 UTC\",\"17\":\"2020-05-11 19:16:25 UTC\",\"18\":\"2020-05-25 13:13:21 UTC\",\"19\":\"2020-05-11 20:58:13 UTC\",\"20\":\"2020-05-04 10:58:54 UTC\",\"21\":\"2020-06-06 22:14:07 UTC\",\"22\":\"2020-06-13 16:02:05 UTC\",\"23\":\"2020-02-25 07:15:46 UTC\",\"24\":\"2020-02-26 07:14:31 UTC\",\"25\":\"2020-02-28 12:55:50 UTC\",\"26\":\"2020-05-04 22:10:15 UTC\",\"27\":\"2020-03-18 11:04:50 UTC\",\"28\":\"2020-03-21 06:16:47 UTC\",\"29\":\"2020-05-16 14:33:09 UTC\",\"30\":\"2020-05-14 10:30:07 UTC\",\"31\":\"2020-05-31 19:32:37 UTC\",\"32\":\"2020-05-31 18:06:15 UTC\",\"33\":\"2020-06-01 02:04:07 UTC\",\"34\":\"2020-06-01 13:55:22 UTC\",\"35\":\"2020-05-04 20:36:54 UTC\",\"36\":\"2020-06-01 15:33:10 UTC\",\"37\":\"2020-05-11 14:22:25 UTC\",\"38\":\"2020-05-07 17:11:49 UTC\",\"39\":\"2020-05-10 11:38:58 UTC\",\"40\":\"2020-05-11 17:05:25 UTC\",\"41\":\"2020-05-11 20:14:41 UTC\",\"42\":\"2020-06-09 00:20:11 UTC\",\"43\":\"2020-03-26 12:12:57 UTC\",\"44\":\"2020-05-11 18:04:38 UTC\",\"45\":\"2020-06-04 18:41:53 UTC\",\"46\":\"2020-06-09 17:28:47 UTC\",\"47\":\"2020-05-19 12:10:38 UTC\",\"48\":\"2020-03-06 13:52:53 UTC\",\"49\":\"2020-02-24 10:56:09 UTC\",\"50\":\"2020-02-24 11:57:48 UTC\",\"51\":\"2020-02-24 10:05:06 UTC\",\"52\":\"2020-02-24 08:25:12 UTC\",\"53\":\"2020-06-10 12:15:41 UTC\",\"54\":\"2020-06-10 11:17:39 UTC\",\"55\":\"2020-05-25 16:39:01 UTC\",\"56\":\"2020-05-13 11:27:07 UTC\",\"57\":\"2020-06-13 16:52:19 UTC\",\"58\":\"2020-03-26 12:44:56 UTC\",\"59\":\"2020-03-05 17:04:10 UTC\",\"60\":\"2020-02-22 11:33:36 UTC\",\"61\":\"2020-02-24 15:48:11 UTC\",\"62\":\"2020-02-27 13:47:09 UTC\",\"63\":\"2020-05-16 23:50:49 UTC\",\"64\":\"2020-02-23 21:47:22 UTC\",\"65\":\"2020-06-03 07:02:26 UTC\",\"66\":\"2020-03-18 13:36:50 UTC\",\"67\":\"2020-03-18 14:28:26 UTC\",\"68\":\"2020-06-03 13:00:12 UTC\",\"69\":\"2020-05-17 18:29:48 UTC\",\"70\":\"2020-04-12 13:15:05 UTC\",\"71\":\"2020-02-23 22:30:58 UTC\",\"72\":\"2020-04-05 21:04:48 UTC\",\"73\":\"2020-03-26 15:45:42 UTC\",\"74\":\"2020-03-26 12:40:34 UTC\",\"75\":\"2020-04-03 09:57:59 UTC\",\"76\":\"2020-06-07 11:18:07 UTC\",\"77\":\"2020-05-04 19:35:36 UTC\",\"78\":\"2020-05-31 14:52:33 UTC\",\"79\":\"2020-05-14 19:46:03 UTC\",\"80\":\"2020-05-14 19:17:00 UTC\",\"81\":\"2020-03-22 14:35:01 UTC\",\"82\":\"2020-06-07 13:04:14 UTC\",\"83\":\"2020-06-13 17:57:22 UTC\",\"84\":\"2020-04-01 17:42:54 UTC\",\"85\":\"2020-04-05 11:07:32 UTC\",\"86\":\"2020-04-01 16:06:46 UTC\",\"87\":\"2020-06-05 12:15:36 UTC\",\"88\":\"2020-03-24 21:09:35 UTC\",\"89\":\"2020-04-01 17:07:17 UTC\",\"90\":\"2020-03-26 14:53:21 UTC\",\"91\":\"2020-03-26 14:09:41 UTC\",\"92\":\"2020-03-26 13:26:53 UTC\",\"93\":\"2020-05-04 21:19:51 UTC\"},\"start_station_id\":{\"0\":3635,\"1\":3635,\"2\":3635,\"3\":4062,\"4\":4062,\"5\":4059,\"6\":4059,\"7\":4062,\"8\":4058,\"9\":3790,\"10\":3660,\"11\":3660,\"12\":2823,\"13\":4060,\"14\":3635,\"15\":3685,\"16\":4062,\"17\":3791,\"18\":4048,\"19\":4058,\"20\":2823,\"21\":3294,\"22\":4060,\"23\":2561,\"24\":2561,\"25\":2561,\"26\":3841,\"27\":2563,\"28\":2563,\"29\":2566,\"30\":2822,\"31\":2571,\"32\":2571,\"33\":2571,\"34\":2571,\"35\":2571,\"36\":2572,\"37\":2572,\"38\":2572,\"39\":2572,\"40\":2572,\"41\":2574,\"42\":3621,\"43\":3621,\"44\":3377,\"45\":3377,\"46\":3377,\"47\":3390,\"48\":3390,\"49\":3390,\"50\":3684,\"51\":3684,\"52\":3684,\"53\":2707,\"54\":2707,\"55\":2707,\"56\":2711,\"57\":3513,\"58\":2494,\"59\":2496,\"60\":2497,\"61\":2499,\"62\":2499,\"63\":2499,\"64\":2499,\"65\":2501,\"66\":2501,\"67\":2501,\"68\":2501,\"69\":2503,\"70\":2504,\"71\":2504,\"72\":3792,\"73\":3793,\"74\":3794,\"75\":3795,\"76\":3292,\"77\":3292,\"78\":3292,\"79\":4061,\"80\":4061,\"81\":2544,\"82\":2544,\"83\":2547,\"84\":2547,\"85\":2548,\"86\":2548,\"87\":2552,\"88\":2552,\"89\":3838,\"90\":3838,\"91\":3838,\"92\":3838,\"93\":3838},\"start_station_name\":{\"0\":\"13th\\\\/San Antonio\",\"1\":\"13th\\\\/San Antonio\",\"2\":\"13th\\\\/San Antonio\",\"3\":\"Lakeshore\\\\/Pleasant Valley\",\"4\":\"Lakeshore\\\\/Pleasant Valley\",\"5\":\"Nash Hernandez\\\\/East @ RBJ South\",\"6\":\"Nash Hernandez\\\\/East @ RBJ South\",\"7\":\"Lakeshore\\\\/Pleasant Valley\",\"8\":\"Hollow Creek\\\\/Barton Hills\",\"9\":\"Lake Austin Blvd\\\\/Deep Eddy\",\"10\":\"East 6th\\\\/Medina\",\"11\":\"East 6th\\\\/Medina\",\"12\":\"East 5th\\\\/Broadway @ Capital Metro HQ\",\"13\":\"Red River\\\\/Cesar Chavez @ The Fairmont\",\"14\":\"13th\\\\/San Antonio\",\"15\":\"9th\\\\/Henderson\",\"16\":\"Lakeshore\\\\/Pleasant Valley\",\"17\":\"Lake Austin\\\\/Enfield\",\"18\":\"South Congress @ Bouldin Creek\",\"19\":\"Hollow Creek\\\\/Barton Hills\",\"20\":\"East 5th\\\\/Broadway @ Capital Metro HQ\",\"21\":\"6th\\\\/Lavaca\",\"22\":\"Red River\\\\/Cesar Chavez @ The Fairmont\",\"23\":\"12th\\\\/San Jacinto @ State Capitol Visitors Garage\",\"24\":\"12th\\\\/San Jacinto @ State Capitol Visitors Garage\",\"25\":\"12th\\\\/San Jacinto @ State Capitol Visitors Garage\",\"26\":\"23rd\\\\/Rio Grande\",\"27\":\"Rainey\\\\/Davis\",\"28\":\"Rainey\\\\/Davis\",\"29\":\"Electric Drive\\\\/Sandra Muraida Way @ Pfluger Ped Bridge\",\"30\":\"East 6th\\\\/Robert T. Martinez\",\"31\":\"8th\\\\/Red River\",\"32\":\"8th\\\\/Red River\",\"33\":\"8th\\\\/Red River\",\"34\":\"8th\\\\/Red River\",\"35\":\"8th\\\\/Red River\",\"36\":\"Barton Springs Pool\",\"37\":\"Barton Springs Pool\",\"38\":\"Barton Springs Pool\",\"39\":\"Barton Springs Pool\",\"40\":\"Barton Springs Pool\",\"41\":\"Zilker Park\",\"42\":\"3rd\\\\/Nueces\",\"43\":\"3rd\\\\/Nueces\",\"44\":\"Veterans\\\\/Atlanta @ MoPac Ped Bridge\",\"45\":\"Veterans\\\\/Atlanta @ MoPac Ped Bridge\",\"46\":\"Veterans\\\\/Atlanta @ MoPac Ped Bridge\",\"47\":\"6th\\\\/Brazos\",\"48\":\"6th\\\\/Brazos\",\"49\":\"6th\\\\/Brazos\",\"50\":\"Cesar Chavez\\\\/Congress\",\"51\":\"Cesar Chavez\\\\/Congress\",\"52\":\"Cesar Chavez\\\\/Congress\",\"53\":\"Rainey\\\\/Cummings\",\"54\":\"Rainey\\\\/Cummings\",\"55\":\"Rainey\\\\/Cummings\",\"56\":\"Barton Springs\\\\/Kinney\",\"57\":\"South Congress\\\\/Barton Springs @ The Austin American-Statesman\",\"58\":\"2nd\\\\/Congress\",\"59\":\"8th\\\\/Congress\",\"60\":\"11th\\\\/Congress @ The Texas Capitol\",\"61\":\"2nd\\\\/Lavaca @ City Hall\",\"62\":\"2nd\\\\/Lavaca @ City Hall\",\"63\":\"2nd\\\\/Lavaca @ City Hall\",\"64\":\"2nd\\\\/Lavaca @ City Hall\",\"65\":\"5th\\\\/Bowie\",\"66\":\"5th\\\\/Bowie\",\"67\":\"5th\\\\/Bowie\",\"68\":\"5th\\\\/Bowie\",\"69\":\"South Congress\\\\/James\",\"70\":\"South Congress\\\\/Elizabeth\",\"71\":\"South Congress\\\\/Elizabeth\",\"72\":\"22nd\\\\/Pearl\",\"73\":\"28th\\\\/Rio Grande\",\"74\":\"4th\\\\/Sabine\",\"75\":\"Dean Keeton\\\\/Whitis\",\"76\":\"East 4th\\\\/Chicon\",\"77\":\"East 4th\\\\/Chicon\",\"78\":\"East 4th\\\\/Chicon\",\"79\":\"Lakeshore\\\\/Austin Hostel\",\"80\":\"Lakeshore\\\\/Austin Hostel\",\"81\":\"East 6th\\\\/Pedernales\",\"82\":\"East 6th\\\\/Pedernales\",\"83\":\"21st\\\\/Guadalupe\",\"84\":\"21st\\\\/Guadalupe\",\"85\":\"Guadalupe\\\\/West Mall @ University Co-op\",\"86\":\"Guadalupe\\\\/West Mall @ University Co-op\",\"87\":\"3rd\\\\/West\",\"88\":\"3rd\\\\/West\",\"89\":\"26th\\\\/Nueces\",\"90\":\"26th\\\\/Nueces\",\"91\":\"26th\\\\/Nueces\",\"92\":\"26th\\\\/Nueces\",\"93\":\"26th\\\\/Nueces\"},\"end_station_id\":{\"0\":2561,\"1\":2561,\"2\":2561,\"3\":4062,\"4\":4059,\"5\":2823,\"6\":4059,\"7\":4062,\"8\":4062,\"9\":3791,\"10\":3660,\"11\":4048,\"12\":2823,\"13\":4062,\"14\":2499,\"15\":2501,\"16\":2566,\"17\":2574,\"18\":2707,\"19\":2711,\"20\":3292,\"21\":3292,\"22\":3513,\"23\":3635,\"24\":3635,\"25\":2495,\"26\":2572,\"27\":2501,\"28\":2544,\"29\":2499,\"30\":4061,\"31\":2571,\"32\":2571,\"33\":2571,\"34\":2572,\"35\":3838,\"36\":2501,\"37\":2572,\"38\":2572,\"39\":2572,\"40\":3377,\"41\":4058,\"42\":3377,\"43\":3794,\"44\":3790,\"45\":2552,\"46\":2707,\"47\":3660,\"48\":2563,\"49\":3684,\"50\":2499,\"51\":3390,\"52\":3684,\"53\":4060,\"54\":2707,\"55\":3292,\"56\":2822,\"57\":2547,\"58\":3838,\"59\":2539,\"60\":2499,\"61\":3635,\"62\":3635,\"63\":2503,\"64\":2504,\"65\":3685,\"66\":2501,\"67\":2563,\"68\":3377,\"69\":3390,\"70\":4058,\"71\":3684,\"72\":2504,\"73\":2552,\"74\":2494,\"75\":2548,\"76\":2544,\"77\":2571,\"78\":2571,\"79\":4062,\"80\":4061,\"81\":2552,\"82\":3621,\"83\":4060,\"84\":3795,\"85\":3792,\"86\":3838,\"87\":3294,\"88\":3621,\"89\":2547,\"90\":3793,\"91\":3838,\"92\":3838,\"93\":3841},\"end_station_name\":{\"0\":\"12th\\\\/San Jacinto @ State Capitol Visitors Garage\",\"1\":\"12th\\\\/San Jacinto @ State Capitol Visitors Garage\",\"2\":\"12th\\\\/San Jacinto @ State Capitol Visitors Garage\",\"3\":\"Lakeshore\\\\/Pleasant Valley\",\"4\":\"Nash Hernandez\\\\/East @ RBJ South\",\"5\":\"East 5th\\\\/Broadway @ Capital Metro HQ\",\"6\":\"Nash Hernandez\\\\/East @ RBJ South\",\"7\":\"Lakeshore\\\\/Pleasant Valley\",\"8\":\"Lakeshore\\\\/Pleasant Valley\",\"9\":\"Lake Austin\\\\/Enfield\",\"10\":\"East 6th\\\\/Medina\",\"11\":\"South Congress @ Bouldin Creek\",\"12\":\"East 5th\\\\/Broadway @ Capital Metro HQ\",\"13\":\"Lakeshore\\\\/Pleasant Valley\",\"14\":\"2nd\\\\/Lavaca @ City Hall\",\"15\":\"5th\\\\/Bowie\",\"16\":\"Electric Drive\\\\/Sandra Muraida Way @ Pfluger Ped Bridge\",\"17\":\"Zilker Park\",\"18\":\"Rainey\\\\/Cummings\",\"19\":\"Barton Springs\\\\/Kinney\",\"20\":\"East 4th\\\\/Chicon\",\"21\":\"East 4th\\\\/Chicon\",\"22\":\"South Congress\\\\/Barton Springs @ The Austin American-Statesman\",\"23\":\"13th\\\\/San Antonio\",\"24\":\"13th\\\\/San Antonio\",\"25\":\"4th\\\\/Congress\",\"26\":\"Barton Springs Pool\",\"27\":\"5th\\\\/Bowie\",\"28\":\"East 6th\\\\/Pedernales\",\"29\":\"2nd\\\\/Lavaca @ City Hall\",\"30\":\"Lakeshore\\\\/Austin Hostel\",\"31\":\"8th\\\\/Red River\",\"32\":\"8th\\\\/Red River\",\"33\":\"8th\\\\/Red River\",\"34\":\"Barton Springs Pool\",\"35\":\"26th\\\\/Nueces\",\"36\":\"5th\\\\/Bowie\",\"37\":\"Barton Springs Pool\",\"38\":\"Barton Springs Pool\",\"39\":\"Barton Springs Pool\",\"40\":\"Veterans\\\\/Atlanta @ MoPac Ped Bridge\",\"41\":\"Hollow Creek\\\\/Barton Hills\",\"42\":\"Veterans\\\\/Atlanta @ MoPac Ped Bridge\",\"43\":\"4th\\\\/Sabine\",\"44\":\"Lake Austin Blvd\\\\/Deep Eddy\",\"45\":\"3rd\\\\/West\",\"46\":\"Rainey\\\\/Cummings\",\"47\":\"East 6th\\\\/Medina\",\"48\":\"Rainey\\\\/Davis\",\"49\":\"Cesar Chavez\\\\/Congress\",\"50\":\"2nd\\\\/Lavaca @ City Hall\",\"51\":\"6th\\\\/Brazos\",\"52\":\"Cesar Chavez\\\\/Congress\",\"53\":\"Red River\\\\/Cesar Chavez @ The Fairmont\",\"54\":\"Rainey\\\\/Cummings\",\"55\":\"East 4th\\\\/Chicon\",\"56\":\"East 6th\\\\/Robert T. Martinez\",\"57\":\"21st\\\\/Guadalupe\",\"58\":\"26th\\\\/Nueces\",\"59\":\"3rd\\\\/Trinity @ The Convention Center\",\"60\":\"2nd\\\\/Lavaca @ City Hall\",\"61\":\"13th\\\\/San Antonio\",\"62\":\"13th\\\\/San Antonio\",\"63\":\"South Congress\\\\/James\",\"64\":\"South Congress\\\\/Elizabeth\",\"65\":\"9th\\\\/Henderson\",\"66\":\"5th\\\\/Bowie\",\"67\":\"Rainey\\\\/Davis\",\"68\":\"Veterans\\\\/Atlanta @ MoPac Ped Bridge\",\"69\":\"6th\\\\/Brazos\",\"70\":\"Hollow Creek\\\\/Barton Hills\",\"71\":\"Cesar Chavez\\\\/Congress\",\"72\":\"South Congress\\\\/Elizabeth\",\"73\":\"3rd\\\\/West\",\"74\":\"2nd\\\\/Congress\",\"75\":\"Guadalupe\\\\/West Mall @ University Co-op\",\"76\":\"East 6th\\\\/Pedernales\",\"77\":\"8th\\\\/Red River\",\"78\":\"8th\\\\/Red River\",\"79\":\"Lakeshore\\\\/Pleasant Valley\",\"80\":\"Lakeshore\\\\/Austin Hostel\",\"81\":\"3rd\\\\/West\",\"82\":\"3rd\\\\/Nueces\",\"83\":\"Red River\\\\/Cesar Chavez @ The Fairmont\",\"84\":\"Dean Keeton\\\\/Whitis\",\"85\":\"22nd\\\\/Pearl\",\"86\":\"26th\\\\/Nueces\",\"87\":\"6th\\\\/Lavaca\",\"88\":\"3rd\\\\/Nueces\",\"89\":\"21st\\\\/Guadalupe\",\"90\":\"28th\\\\/Rio Grande\",\"91\":\"26th\\\\/Nueces\",\"92\":\"26th\\\\/Nueces\",\"93\":\"23rd\\\\/Rio Grande\"},\"duration_minutes\":{\"0\":6,\"1\":4,\"2\":9,\"3\":38,\"4\":83,\"5\":10,\"6\":67,\"7\":59,\"8\":27,\"9\":42,\"10\":54,\"11\":28,\"12\":141,\"13\":13,\"14\":8,\"15\":2,\"16\":21,\"17\":58,\"18\":31,\"19\":5,\"20\":37,\"21\":18,\"22\":21,\"23\":4,\"24\":5,\"25\":44,\"26\":32,\"27\":20,\"28\":15,\"29\":55,\"30\":13,\"31\":56,\"32\":23,\"33\":35,\"34\":44,\"35\":43,\"36\":39,\"37\":27,\"38\":70,\"39\":59,\"40\":58,\"41\":22,\"42\":49,\"43\":27,\"44\":27,\"45\":770,\"46\":36,\"47\":26,\"48\":15561,\"49\":5,\"50\":3,\"51\":8,\"52\":51,\"53\":344,\"54\":29,\"55\":18,\"56\":25,\"57\":28,\"58\":42,\"59\":6,\"60\":13,\"61\":16,\"62\":8,\"63\":608,\"64\":20,\"65\":2,\"66\":8,\"67\":12,\"68\":33,\"69\":17,\"70\":30,\"71\":33,\"72\":13,\"73\":14,\"74\":3,\"75\":20,\"76\":62,\"77\":61,\"78\":27,\"79\":3,\"80\":22,\"81\":42,\"82\":17,\"83\":25,\"84\":1150,\"85\":106,\"86\":60,\"87\":4,\"88\":22,\"89\":35,\"90\":52,\"91\":43,\"92\":43,\"93\":50}}'"
      ]
     },
     "execution_count": 38,
     "metadata": {},
     "output_type": "execute_result"
    }
   ],
   "source": [
    "avg_bike_id(19456)"
   ]
  },
  {
   "cell_type": "markdown",
   "id": "712aeb14-8f96-4df5-a2eb-5a42e083dddc",
   "metadata": {},
   "source": [
    "## Create POST Endpoints"
   ]
  },
  {
   "cell_type": "markdown",
   "id": "d518c6a2-6fc7-4eb0-91a7-c7ba25db5bce",
   "metadata": {},
   "source": [
    "You can use the following cell to try-out your function before implementing it as an endpoint.\n",
    "\n",
    "If you still find it quite difficult, here's an example case you might wanted to try on:\n",
    "- input : a dictionary contained a datetime period\n",
    "    - { \"period\" : \"2015-08\" }\n",
    "- output:\n",
    "    - Aggregation table of bike rent activities for each station in that specific period\n",
    "- example code: \n",
    "\n",
    "```python \n",
    "input_data = request.get_json() # Get the input as dictionary\n",
    "specified_date = input_data['period'] # Select specific items (period) from the dictionary (the value will be \"2015-08\")\n",
    "\n",
    "# Subset the data with query \n",
    "conn = make_connection()\n",
    "query = f\"SELECT * FROM stations WHERE start_time LIKE ({specified_date}%)\"\n",
    "selected_data = pd.read_sql_query(query, conn)\n",
    "\n",
    "# Make the aggregate\n",
    "result = selected_data.groupby('start_station_id').agg({\n",
    "    'bikeid' : 'count', \n",
    "    'duration_minutes' : 'mean'\n",
    "})\n",
    "\n",
    "# Return the result\n",
    "return result.to_json()\n",
    "\n",
    "```\n",
    "\n",
    "After created the endpoint, make sure to implement it to app.py file."
   ]
  },
  {
   "cell_type": "code",
   "execution_count": 44,
   "id": "d24c9463-77d9-4294-b3f9-73b16391e46a",
   "metadata": {},
   "outputs": [],
   "source": [
    "def dictionary():\n",
    "    input_data = request.get_json(force=True) # Get the input as dictionary\n",
    "    \n",
    "    print(input_data)\n",
    "    specified_date = input_data['period'] # Select specific items (period) from the dictionary (the value will be \"2015-08\")\n",
    "    # Subset the data with query \n",
    "    conn = make_connection()\n",
    "    query = f\"SELECT * FROM stations WHERE start_time LIKE ({specified_date}%)\"\n",
    "    selected_data = pd.read_sql_query(query, conn)\n",
    "\n",
    "    # Make the aggregate\n",
    "    result = selected_data.groupby('start_station_id').agg({\n",
    "        'bikeid' : 'count', \n",
    "        'duration_minutes' : 'mean'\n",
    "    })\n",
    "\n",
    "\n",
    "    # Return the result\n",
    "    return result.to_json()"
   ]
  },
  {
   "cell_type": "code",
   "execution_count": 53,
   "id": "eade1ab8",
   "metadata": {},
   "outputs": [],
   "source": [
    "data = {\n",
    "    \"period\" : \"2020-08\"\n",
    "}\n",
    "\n",
    "url = \"http://127.0.0.1:5000/dictionary\"\n",
    "\n"
   ]
  },
  {
   "cell_type": "code",
   "execution_count": 54,
   "id": "c307a00d",
   "metadata": {},
   "outputs": [],
   "source": [
    "res = requests.post(url, json=data)"
   ]
  },
  {
   "cell_type": "code",
   "execution_count": 55,
   "id": "f635db80",
   "metadata": {},
   "outputs": [
    {
     "data": {
      "text/plain": [
       "<Response [200]>"
      ]
     },
     "execution_count": 55,
     "metadata": {},
     "output_type": "execute_result"
    }
   ],
   "source": [
    "res"
   ]
  },
  {
   "cell_type": "code",
   "execution_count": 56,
   "id": "333fed6d",
   "metadata": {},
   "outputs": [
    {
     "data": {
      "text/plain": [
       "'{\"bikeid\":{\"2494\":244,\"2495\":122,\"2496\":74,\"2497\":131,\"2498\":142,\"2499\":170,\"2501\":280,\"2503\":79,\"2504\":71,\"2537\":61,\"2539\":203,\"2542\":111,\"2544\":105,\"2547\":175,\"2548\":108,\"2549\":198,\"2552\":264,\"2561\":104,\"2562\":28,\"2563\":201,\"2565\":42,\"2566\":247,\"2567\":173,\"2568\":26,\"2569\":25,\"2570\":73,\"2571\":49,\"2572\":137,\"2574\":244,\"2575\":387,\"2707\":427,\"2711\":160,\"2822\":23,\"2823\":25,\"3291\":105,\"3292\":57,\"3293\":77,\"3294\":57,\"3377\":239,\"3390\":127,\"3455\":127,\"3513\":181,\"3619\":172,\"3621\":244,\"3635\":58,\"3660\":124,\"3684\":57,\"3685\":114,\"3686\":251,\"3687\":209,\"3790\":69,\"3791\":101,\"3792\":105,\"3793\":189,\"3794\":83,\"3795\":88,\"3797\":86,\"3798\":175,\"3799\":119,\"3838\":106,\"3841\":158,\"4047\":42,\"4048\":107,\"4050\":132,\"4051\":13,\"4052\":26,\"4054\":27,\"4055\":21,\"4057\":97,\"4058\":65,\"4059\":227,\"4060\":84,\"4061\":358,\"4062\":257},\"duration_minutes\":{\"2494\":52.9918032787,\"2495\":28.0901639344,\"2496\":47.8918918919,\"2497\":39.3893129771,\"2498\":23.1408450704,\"2499\":56.6941176471,\"2501\":24.1678571429,\"2503\":53.8734177215,\"2504\":30.6056338028,\"2537\":31.7213114754,\"2539\":35.4876847291,\"2542\":25.1981981982,\"2544\":22.1238095238,\"2547\":28.6914285714,\"2548\":24.6018518519,\"2549\":33.9393939394,\"2552\":31.446969697,\"2561\":34.4038461538,\"2562\":102.2142857143,\"2563\":33.2338308458,\"2565\":68.4047619048,\"2566\":49.6396761134,\"2567\":43.1156069364,\"2568\":44.8076923077,\"2569\":61.76,\"2570\":20.1917808219,\"2571\":37.1020408163,\"2572\":45.2627737226,\"2574\":81.1721311475,\"2575\":52.9457364341,\"2707\":49.5667447307,\"2711\":44.79375,\"2822\":40.4347826087,\"2823\":106.36,\"3291\":21.9523809524,\"3292\":23.6140350877,\"3293\":34.1688311688,\"3294\":155.0175438596,\"3377\":57.1589958159,\"3390\":67.5275590551,\"3455\":31.4881889764,\"3513\":37.8342541436,\"3619\":39.1976744186,\"3621\":39.1639344262,\"3635\":36.1206896552,\"3660\":39.435483871,\"3684\":32.701754386,\"3685\":29.3771929825,\"3686\":35.3107569721,\"3687\":40.7224880383,\"3790\":26.5507246377,\"3791\":45.1485148515,\"3792\":25.7238095238,\"3793\":34.4021164021,\"3794\":44.0120481928,\"3795\":23.4545454545,\"3797\":25.5581395349,\"3798\":20.1942857143,\"3799\":24.4285714286,\"3838\":30.7830188679,\"3841\":21.4873417722,\"4047\":40.5714285714,\"4048\":21.5981308411,\"4050\":53.5681818182,\"4051\":65.0769230769,\"4052\":30.4615384615,\"4054\":24.1851851852,\"4055\":145.6666666667,\"4057\":38.8350515464,\"4058\":25.8,\"4059\":55.1321585903,\"4060\":38.369047619,\"4061\":47.3016759777,\"4062\":44.5719844358}}'"
      ]
     },
     "execution_count": 56,
     "metadata": {},
     "output_type": "execute_result"
    }
   ],
   "source": [
    "res.text"
   ]
  },
  {
   "cell_type": "code",
   "execution_count": 62,
   "id": "2d4dd2cf",
   "metadata": {},
   "outputs": [
    {
     "data": {
      "text/html": [
       "<div>\n",
       "<style scoped>\n",
       "    .dataframe tbody tr th:only-of-type {\n",
       "        vertical-align: middle;\n",
       "    }\n",
       "\n",
       "    .dataframe tbody tr th {\n",
       "        vertical-align: top;\n",
       "    }\n",
       "\n",
       "    .dataframe thead th {\n",
       "        text-align: right;\n",
       "    }\n",
       "</style>\n",
       "<table border=\"1\" class=\"dataframe\">\n",
       "  <thead>\n",
       "    <tr style=\"text-align: right;\">\n",
       "      <th></th>\n",
       "      <th>station_id</th>\n",
       "      <th>name</th>\n",
       "      <th>status</th>\n",
       "      <th>address</th>\n",
       "      <th>alternate_name</th>\n",
       "      <th>city_asset_number</th>\n",
       "      <th>property_type</th>\n",
       "      <th>number_of_docks</th>\n",
       "      <th>power_type</th>\n",
       "      <th>footprint_length</th>\n",
       "      <th>footprint_width</th>\n",
       "      <th>notes</th>\n",
       "      <th>council_district</th>\n",
       "      <th>modified_date</th>\n",
       "    </tr>\n",
       "  </thead>\n",
       "  <tbody>\n",
       "    <tr>\n",
       "      <th>0</th>\n",
       "      <td>2494</td>\n",
       "      <td>2nd &amp; Congress</td>\n",
       "      <td>active</td>\n",
       "      <td>151 E. 2nd St</td>\n",
       "      <td></td>\n",
       "      <td>16733</td>\n",
       "      <td>paid_parking</td>\n",
       "      <td>15</td>\n",
       "      <td>solar</td>\n",
       "      <td>45.0</td>\n",
       "      <td>5.0</td>\n",
       "      <td></td>\n",
       "      <td>9</td>\n",
       "      <td>2021-01-04T12:00:00Z</td>\n",
       "    </tr>\n",
       "  </tbody>\n",
       "</table>\n",
       "</div>"
      ],
      "text/plain": [
       "   station_id            name  status        address alternate_name  \\\n",
       "0        2494  2nd & Congress  active  151 E. 2nd St                  \n",
       "\n",
       "   city_asset_number property_type  number_of_docks power_type  \\\n",
       "0              16733  paid_parking               15      solar   \n",
       "\n",
       "   footprint_length  footprint_width notes  council_district  \\\n",
       "0              45.0              5.0                       9   \n",
       "\n",
       "          modified_date  \n",
       "0  2021-01-04T12:00:00Z  "
      ]
     },
     "execution_count": 62,
     "metadata": {},
     "output_type": "execute_result"
    }
   ],
   "source": [
    "query = f\"\"\"SELECT * FROM stations where station_id = 2494\"\"\"\n",
    "result = pd.read_sql_query(query, conn)\n",
    "result"
   ]
  },
  {
   "cell_type": "markdown",
   "id": "46bbfb18",
   "metadata": {},
   "source": [
    "# Submission\n",
    "\n",
    "After finishing your work of all the rubrics, the next step will be;\n",
    "\n",
    "1. Prepare your `Bikeshare API.ipynb` file that has been edited with your code and wrangling data.\n",
    "2. Prepare your `app.py` file for your Flask App. Make sure you have implemented all the endpoints to `app.py` (including your custom static, dynamic and post endpoints).\n",
    "3. Submit your `Bikeshare API.ipynb` and `app.py` file in your github repository. The dataset is optional to post since it has big size to post. \n",
    "\n"
   ]
  }
 ],
 "metadata": {
  "kernelspec": {
   "display_name": "vulcan_da",
   "language": "python",
   "name": "vulcan_da"
  },
  "language_info": {
   "codemirror_mode": {
    "name": "ipython",
    "version": 3
   },
   "file_extension": ".py",
   "mimetype": "text/x-python",
   "name": "python",
   "nbconvert_exporter": "python",
   "pygments_lexer": "ipython3",
   "version": "3.10.9"
  },
  "toc": {
   "base_numbering": 1,
   "nav_menu": {},
   "number_sections": true,
   "sideBar": true,
   "skip_h1_title": false,
   "title_cell": "Table of Contents",
   "title_sidebar": "Contents",
   "toc_cell": false,
   "toc_position": {},
   "toc_section_display": true,
   "toc_window_display": false
  },
  "toc-autonumbering": true
 },
 "nbformat": 4,
 "nbformat_minor": 5
}
